{
 "cells": [
  {
   "cell_type": "markdown",
   "metadata": {},
   "source": [
    "# Estimating local and global feature importance scores using DiCE\n",
    "\n",
    "Summaries of counterfactual examples can be used to estimate importance of features. Intuitively, a feature that is changed more often to generate a proximal counterfactual is an important feature. We use this intuition to build a feature importance score. \n",
    "\n",
    "This score can be interpreted as a measure of the **necessity** of a feature to cause a particular model output. That is, if the feature's value changes, then it is likely that the model's output class will also change (or the model's output will significantly change in case of regression model).  \n",
    "\n",
    "Below we show how counterfactuals can be used to provide local feature importance scores for any input, and how those scores can be combined to yield a global importance score for each feature."
   ]
  },
  {
   "cell_type": "code",
   "execution_count": 1,
   "metadata": {},
   "outputs": [],
   "source": [
    "%load_ext autoreload\n",
    "%autoreload 2"
   ]
  },
  {
   "cell_type": "code",
   "execution_count": 2,
   "metadata": {},
   "outputs": [],
   "source": [
    "import tensorflow as tf\n",
    "from sklearn.neural_network import MLPClassifier\n",
    "from sklearn.pipeline import Pipeline\n",
    "from sklearn.impute import SimpleImputer\n",
    "from sklearn.preprocessing import StandardScaler, OneHotEncoder\n",
    "from sklearn.svm import SVC\n",
    "from lightgbm import LGBMClassifier\n",
    "import pandas as pd\n",
    "import numpy as np\n",
    "import matplotlib.pyplot as plt\n"
   ]
  },
  {
   "cell_type": "markdown",
   "metadata": {},
   "source": [
    "## Preliminaries: Loading the data and ML model"
   ]
  },
  {
   "cell_type": "code",
   "execution_count": 3,
   "metadata": {},
   "outputs": [
    {
     "data": {
      "text/plain": [
       "{'age': 'age',\n",
       " 'workclass': 'type of industry (Government, Other/Unknown, Private, Self-Employed)',\n",
       " 'education': 'education level (Assoc, Bachelors, Doctorate, HS-grad, Masters, Prof-school, School, Some-college)',\n",
       " 'marital_status': 'marital status (Divorced, Married, Separated, Single, Widowed)',\n",
       " 'occupation': 'occupation (Blue-Collar, Other/Unknown, Professional, Sales, Service, White-Collar)',\n",
       " 'race': 'white or other race?',\n",
       " 'gender': 'male or female?',\n",
       " 'hours_per_week': 'total work hours per week',\n",
       " 'income': '0 (<=50K) vs 1 (>50K)'}"
      ]
     },
     "execution_count": 3,
     "metadata": {},
     "output_type": "execute_result"
    }
   ],
   "source": [
    "dataset = helpers.load_adult_income_dataset()\n",
    "helpers.get_adult_data_info()"
   ]
  },
  {
   "cell_type": "code",
   "execution_count": 4,
   "metadata": {},
   "outputs": [],
   "source": [
    "target = dataset[\"income\"]\n",
    "# Split data into train and test\n",
    "from sklearn.model_selection import train_test_split\n",
    "datasetX = dataset.drop(\"income\", axis=1)\n",
    "x_train, x_test, y_train, y_test = train_test_split(datasetX, \n",
    "                                                    target, \n",
    "                                                    test_size = 0.2,\n",
    "                                                    random_state=0,\n",
    "                                                    stratify=target)\n",
    "\n",
    "numerical=[\"age\", \"hours_per_week\"]\n",
    "categorical = x_train.columns.difference(numerical) \n",
    "from sklearn.compose import ColumnTransformer\n",
    "\n",
    "# We create the preprocessing pipelines for both numeric and categorical data.\n",
    "numeric_transformer = Pipeline(steps=[\n",
    "    ('imputer', SimpleImputer(strategy='median')),\n",
    "    ('scaler', StandardScaler())])\n",
    "\n",
    "categorical_transformer = Pipeline(steps=[\n",
    "    ('imputer', SimpleImputer(strategy='constant', fill_value='missing')),\n",
    "    ('onehot', OneHotEncoder(handle_unknown='ignore'))])\n",
    "\n",
    "transformations = ColumnTransformer(\n",
    "    transformers=[\n",
    "        ('num', numeric_transformer, numerical),\n",
    "        ('cat', categorical_transformer, categorical)])\n",
    "\n",
    "# Append classifier to preprocessing pipeline.\n",
    "# Now we have a full prediction pipeline.\n",
    "clf = Pipeline(steps=[('preprocessor', transformations),\n",
    "                      ('classifier', LGBMClassifier())])\n"
   ]
  },
  {
   "cell_type": "code",
   "execution_count": 5,
   "metadata": {},
   "outputs": [],
   "source": [
    "from dice_ml import Dice\n",
    "from dice_ml.utils import helpers # helper functions\n",
    "\n",
    "\n",
    "d = dice_ml.Data(dataframe=dataset, continuous_features=['age', 'hours_per_week'], outcome_name='income')\n",
    "model = clf.fit(x_train, y_train)\n",
    "m = dice_ml.Model(model=model, backend=\"sklearn\")"
   ]
  },
  {
   "cell_type": "markdown",
   "metadata": {},
   "source": [
    "## Local feature importance\n",
    "\n",
    "We first generate counterfactuals for a given input point. "
   ]
  },
  {
   "cell_type": "code",
   "execution_count": 44,
   "metadata": {},
   "outputs": [
    {
     "name": "stderr",
     "output_type": "stream",
     "text": [
      "/home/amit/py-envs/env3.8/lib/python3.8/site-packages/sklearn/compose/_column_transformer.py:437: FutureWarning: Given feature/column names or counts do not match the ones for the data given during fit. This will fail from v0.24.\n",
      "  warnings.warn(\"Given feature/column names or counts do not match \"\n"
     ]
    },
    {
     "name": "stdout",
     "output_type": "stream",
     "text": [
      "Initializing initial parameters to the genetic algorithm...\n",
      "Initialization complete! Generating counterfactuals...\n",
      "Diverse Counterfactuals found! total time taken: 00 min 03 sec\n",
      "Initializing initial parameters to the genetic algorithm...\n",
      "Initialization complete! Generating counterfactuals...\n",
      "Diverse Counterfactuals found! total time taken: 00 min 06 sec\n",
      "Query instance (original outcome : 1)\n"
     ]
    },
    {
     "data": {
      "text/html": [
       "<div>\n",
       "<style scoped>\n",
       "    .dataframe tbody tr th:only-of-type {\n",
       "        vertical-align: middle;\n",
       "    }\n",
       "\n",
       "    .dataframe tbody tr th {\n",
       "        vertical-align: top;\n",
       "    }\n",
       "\n",
       "    .dataframe thead th {\n",
       "        text-align: right;\n",
       "    }\n",
       "</style>\n",
       "<table border=\"1\" class=\"dataframe\">\n",
       "  <thead>\n",
       "    <tr style=\"text-align: right;\">\n",
       "      <th></th>\n",
       "      <th>age</th>\n",
       "      <th>workclass</th>\n",
       "      <th>education</th>\n",
       "      <th>marital_status</th>\n",
       "      <th>occupation</th>\n",
       "      <th>race</th>\n",
       "      <th>gender</th>\n",
       "      <th>hours_per_week</th>\n",
       "      <th>income</th>\n",
       "    </tr>\n",
       "  </thead>\n",
       "  <tbody>\n",
       "    <tr>\n",
       "      <th>0</th>\n",
       "      <td>54</td>\n",
       "      <td>Other/Unknown</td>\n",
       "      <td>Some-college</td>\n",
       "      <td>Married</td>\n",
       "      <td>Other/Unknown</td>\n",
       "      <td>Other</td>\n",
       "      <td>Male</td>\n",
       "      <td>60</td>\n",
       "      <td>1</td>\n",
       "    </tr>\n",
       "  </tbody>\n",
       "</table>\n",
       "</div>"
      ],
      "text/plain": [
       "   age      workclass     education marital_status     occupation   race  \\\n",
       "0   54  Other/Unknown  Some-college        Married  Other/Unknown  Other   \n",
       "\n",
       "  gender  hours_per_week  income  \n",
       "0   Male              60       1  "
      ]
     },
     "metadata": {},
     "output_type": "display_data"
    },
    {
     "name": "stdout",
     "output_type": "stream",
     "text": [
      "\n",
      "Diverse Counterfactual set (new outcome: 0.0)\n"
     ]
    },
    {
     "data": {
      "text/html": [
       "<div>\n",
       "<style scoped>\n",
       "    .dataframe tbody tr th:only-of-type {\n",
       "        vertical-align: middle;\n",
       "    }\n",
       "\n",
       "    .dataframe tbody tr th {\n",
       "        vertical-align: top;\n",
       "    }\n",
       "\n",
       "    .dataframe thead th {\n",
       "        text-align: right;\n",
       "    }\n",
       "</style>\n",
       "<table border=\"1\" class=\"dataframe\">\n",
       "  <thead>\n",
       "    <tr style=\"text-align: right;\">\n",
       "      <th></th>\n",
       "      <th>age</th>\n",
       "      <th>workclass</th>\n",
       "      <th>education</th>\n",
       "      <th>marital_status</th>\n",
       "      <th>occupation</th>\n",
       "      <th>race</th>\n",
       "      <th>gender</th>\n",
       "      <th>hours_per_week</th>\n",
       "      <th>income</th>\n",
       "    </tr>\n",
       "  </thead>\n",
       "  <tbody>\n",
       "    <tr>\n",
       "      <th>0</th>\n",
       "      <td>71.43461316347509</td>\n",
       "      <td>-</td>\n",
       "      <td>-</td>\n",
       "      <td>Widowed</td>\n",
       "      <td>Professional</td>\n",
       "      <td>White</td>\n",
       "      <td>-</td>\n",
       "      <td>94.32003319498546</td>\n",
       "      <td>0</td>\n",
       "    </tr>\n",
       "    <tr>\n",
       "      <th>1</th>\n",
       "      <td>72.16293823157059</td>\n",
       "      <td>Self-Employed</td>\n",
       "      <td>-</td>\n",
       "      <td>Widowed</td>\n",
       "      <td>-</td>\n",
       "      <td>-</td>\n",
       "      <td>-</td>\n",
       "      <td>55.59221721473404</td>\n",
       "      <td>0</td>\n",
       "    </tr>\n",
       "  </tbody>\n",
       "</table>\n",
       "</div>"
      ],
      "text/plain": [
       "                 age      workclass education marital_status    occupation  \\\n",
       "0  71.43461316347509              -         -        Widowed  Professional   \n",
       "1  72.16293823157059  Self-Employed         -        Widowed             -   \n",
       "\n",
       "    race gender     hours_per_week income  \n",
       "0  White      -  94.32003319498546      0  \n",
       "1      -      -  55.59221721473404      0  "
      ]
     },
     "metadata": {},
     "output_type": "display_data"
    },
    {
     "name": "stdout",
     "output_type": "stream",
     "text": [
      "Query instance (original outcome : 0)\n"
     ]
    },
    {
     "data": {
      "text/html": [
       "<div>\n",
       "<style scoped>\n",
       "    .dataframe tbody tr th:only-of-type {\n",
       "        vertical-align: middle;\n",
       "    }\n",
       "\n",
       "    .dataframe tbody tr th {\n",
       "        vertical-align: top;\n",
       "    }\n",
       "\n",
       "    .dataframe thead th {\n",
       "        text-align: right;\n",
       "    }\n",
       "</style>\n",
       "<table border=\"1\" class=\"dataframe\">\n",
       "  <thead>\n",
       "    <tr style=\"text-align: right;\">\n",
       "      <th></th>\n",
       "      <th>age</th>\n",
       "      <th>workclass</th>\n",
       "      <th>education</th>\n",
       "      <th>marital_status</th>\n",
       "      <th>occupation</th>\n",
       "      <th>race</th>\n",
       "      <th>gender</th>\n",
       "      <th>hours_per_week</th>\n",
       "      <th>income</th>\n",
       "    </tr>\n",
       "  </thead>\n",
       "  <tbody>\n",
       "    <tr>\n",
       "      <th>0</th>\n",
       "      <td>31</td>\n",
       "      <td>Private</td>\n",
       "      <td>Some-college</td>\n",
       "      <td>Divorced</td>\n",
       "      <td>Blue-Collar</td>\n",
       "      <td>White</td>\n",
       "      <td>Male</td>\n",
       "      <td>40</td>\n",
       "      <td>0</td>\n",
       "    </tr>\n",
       "  </tbody>\n",
       "</table>\n",
       "</div>"
      ],
      "text/plain": [
       "   age workclass     education marital_status   occupation   race gender  \\\n",
       "0   31   Private  Some-college       Divorced  Blue-Collar  White   Male   \n",
       "\n",
       "   hours_per_week  income  \n",
       "0              40       0  "
      ]
     },
     "metadata": {},
     "output_type": "display_data"
    },
    {
     "name": "stdout",
     "output_type": "stream",
     "text": [
      "\n",
      "Diverse Counterfactual set (new outcome: 1.0)\n"
     ]
    },
    {
     "data": {
      "text/html": [
       "<div>\n",
       "<style scoped>\n",
       "    .dataframe tbody tr th:only-of-type {\n",
       "        vertical-align: middle;\n",
       "    }\n",
       "\n",
       "    .dataframe tbody tr th {\n",
       "        vertical-align: top;\n",
       "    }\n",
       "\n",
       "    .dataframe thead th {\n",
       "        text-align: right;\n",
       "    }\n",
       "</style>\n",
       "<table border=\"1\" class=\"dataframe\">\n",
       "  <thead>\n",
       "    <tr style=\"text-align: right;\">\n",
       "      <th></th>\n",
       "      <th>age</th>\n",
       "      <th>workclass</th>\n",
       "      <th>education</th>\n",
       "      <th>marital_status</th>\n",
       "      <th>occupation</th>\n",
       "      <th>race</th>\n",
       "      <th>gender</th>\n",
       "      <th>hours_per_week</th>\n",
       "      <th>income</th>\n",
       "    </tr>\n",
       "  </thead>\n",
       "  <tbody>\n",
       "    <tr>\n",
       "      <th>0</th>\n",
       "      <td>30.977455868246622</td>\n",
       "      <td>Self-Employed</td>\n",
       "      <td>-</td>\n",
       "      <td>Married</td>\n",
       "      <td>Professional</td>\n",
       "      <td>Other</td>\n",
       "      <td>Female</td>\n",
       "      <td>39.147403679091454</td>\n",
       "      <td>1</td>\n",
       "    </tr>\n",
       "    <tr>\n",
       "      <th>1</th>\n",
       "      <td>30.977455868246622</td>\n",
       "      <td>-</td>\n",
       "      <td>Masters</td>\n",
       "      <td>Separated</td>\n",
       "      <td>Other/Unknown</td>\n",
       "      <td>-</td>\n",
       "      <td>-</td>\n",
       "      <td>57.331390021021306</td>\n",
       "      <td>-</td>\n",
       "    </tr>\n",
       "  </tbody>\n",
       "</table>\n",
       "</div>"
      ],
      "text/plain": [
       "                  age      workclass education marital_status     occupation  \\\n",
       "0  30.977455868246622  Self-Employed         -        Married   Professional   \n",
       "1  30.977455868246622              -   Masters      Separated  Other/Unknown   \n",
       "\n",
       "    race  gender      hours_per_week income  \n",
       "0  Other  Female  39.147403679091454      1  \n",
       "1      -       -  57.331390021021306      -  "
      ]
     },
     "metadata": {},
     "output_type": "display_data"
    }
   ],
   "source": [
    "exp = Dice(d, m, method=\"genetic\")\n",
    "query_instances = x_train[1:3]\n",
    "e1 = exp.generate_counterfactuals(query_instances, total_CFs=2)\n",
    "e1.visualize_as_dataframe(show_only_changes=True)"
   ]
  },
  {
   "cell_type": "markdown",
   "metadata": {},
   "source": [
    "These can now be used to calculate the feature importance scores. "
   ]
  },
  {
   "cell_type": "code",
   "execution_count": 7,
   "metadata": {},
   "outputs": [
    {
     "name": "stdout",
     "output_type": "stream",
     "text": [
      "[{'workclass': 0.0, 'education': 1.0, 'marital_status': 0.0, 'occupation': 1.0, 'race': 0.0, 'gender': 1.0, 'age': 1.0, 'hours_per_week': 1.0}, {'workclass': 1.0, 'education': 1.0, 'marital_status': 1.0, 'occupation': 1.0, 'race': 0.5, 'gender': 0.5, 'age': 1.0, 'hours_per_week': 1.0}, {'workclass': 0.0, 'education': 1.0, 'marital_status': 1.0, 'occupation': 1.0, 'race': 0.0, 'gender': 1.0, 'age': 1.0, 'hours_per_week': 1.0}]\n"
     ]
    }
   ],
   "source": [
    "imp = exp.feature_importance(query_instances, cf_examples_list=e1.cf_examples_list)\n",
    "print(imp.local_importance)"
   ]
  },
  {
   "cell_type": "markdown",
   "metadata": {},
   "source": [
    "Feature importance can also be estimated directly, by leaving the `cf_examples_list` argument blank."
   ]
  },
  {
   "cell_type": "code",
   "execution_count": 8,
   "metadata": {},
   "outputs": [
    {
     "name": "stdout",
     "output_type": "stream",
     "text": [
      "Diverse Counterfactuals found! total time taken: 00 min 00 sec\n",
      "Diverse Counterfactuals found! total time taken: 00 min 00 sec\n",
      "Diverse Counterfactuals found! total time taken: 00 min 00 sec\n",
      "[{'workclass': 0.8, 'education': 1.0, 'marital_status': 0.5, 'occupation': 0.9, 'race': 0.5, 'gender': 0.5, 'age': 1.0, 'hours_per_week': 1.0}, {'workclass': 0.9, 'education': 0.8, 'marital_status': 0.8, 'occupation': 1.0, 'race': 0.7, 'gender': 0.7, 'age': 1.0, 'hours_per_week': 1.0}, {'workclass': 0.8, 'education': 0.7, 'marital_status': 1.0, 'occupation': 0.9, 'race': 0.5, 'gender': 0.5, 'age': 1.0, 'hours_per_week': 1.0}]\n"
     ]
    }
   ],
   "source": [
    "imp = exp.feature_importance(query_instances, posthoc_sparsity_param=None)\n",
    "print(imp.local_importance)"
   ]
  },
  {
   "cell_type": "markdown",
   "metadata": {},
   "source": [
    "## Global importance\n",
    "\n",
    "For global importance, we need to generate counterfactuals for a representative sample of the dataset. "
   ]
  },
  {
   "cell_type": "code",
   "execution_count": 9,
   "metadata": {},
   "outputs": [
    {
     "name": "stdout",
     "output_type": "stream",
     "text": [
      "Diverse Counterfactuals found! total time taken: 00 min 00 sec\n",
      "Diverse Counterfactuals found! total time taken: 00 min 00 sec\n",
      "Diverse Counterfactuals found! total time taken: 00 min 00 sec\n",
      "{'workclass': 0.8333333333333334, 'education': 0.8333333333333334, 'marital_status': 0.7666666666666667, 'occupation': 0.9333333333333333, 'race': 0.5666666666666667, 'gender': 0.5666666666666667, 'age': 1.0, 'hours_per_week': 1.0}\n"
     ]
    }
   ],
   "source": [
    "cobj=exp.feature_importance(query_instances[0:10], total_CFs=10, posthoc_sparsity_param=None)\n",
    "print(cobj.summary_importance)"
   ]
  },
  {
   "cell_type": "markdown",
   "metadata": {},
   "source": [
    "## Convert the counterfactual output to json"
   ]
  },
  {
   "cell_type": "code",
   "execution_count": 10,
   "metadata": {},
   "outputs": [
    {
     "name": "stdout",
     "output_type": "stream",
     "text": [
      "{\n",
      "  \"cf_examples_list\": [\n",
      "    \"{\\\"model_type\\\": \\\"classifier\\\", \\\"desired_class\\\": 1.0, \\\"desired_range\\\": null, \\\"test_instance_df\\\": \\\"{\\\\\\\"age\\\\\\\":{\\\\\\\"0\\\\\\\":38},\\\\\\\"workclass\\\\\\\":{\\\\\\\"0\\\\\\\":\\\\\\\"Private\\\\\\\"},\\\\\\\"education\\\\\\\":{\\\\\\\"0\\\\\\\":\\\\\\\"HS-grad\\\\\\\"},\\\\\\\"marital_status\\\\\\\":{\\\\\\\"0\\\\\\\":\\\\\\\"Married\\\\\\\"},\\\\\\\"occupation\\\\\\\":{\\\\\\\"0\\\\\\\":\\\\\\\"Blue-Collar\\\\\\\"},\\\\\\\"race\\\\\\\":{\\\\\\\"0\\\\\\\":\\\\\\\"White\\\\\\\"},\\\\\\\"gender\\\\\\\":{\\\\\\\"0\\\\\\\":\\\\\\\"Male\\\\\\\"},\\\\\\\"hours_per_week\\\\\\\":{\\\\\\\"0\\\\\\\":44},\\\\\\\"income\\\\\\\":{\\\\\\\"0\\\\\\\":0.367}}\\\", \\\"final_cfs_df\\\": \\\"{\\\\\\\"age\\\\\\\":{\\\\\\\"0\\\\\\\":50.0,\\\\\\\"1\\\\\\\":39.0,\\\\\\\"2\\\\\\\":51.0,\\\\\\\"3\\\\\\\":44.0,\\\\\\\"4\\\\\\\":56.0,\\\\\\\"5\\\\\\\":48.0,\\\\\\\"6\\\\\\\":53.0,\\\\\\\"7\\\\\\\":51.0,\\\\\\\"8\\\\\\\":51.0,\\\\\\\"9\\\\\\\":60.0},\\\\\\\"workclass\\\\\\\":{\\\\\\\"0\\\\\\\":\\\\\\\"Private\\\\\\\",\\\\\\\"1\\\\\\\":\\\\\\\"Private\\\\\\\",\\\\\\\"2\\\\\\\":\\\\\\\"Other\\\\\\\\/Unknown\\\\\\\",\\\\\\\"3\\\\\\\":\\\\\\\"Government\\\\\\\",\\\\\\\"4\\\\\\\":\\\\\\\"Self-Employed\\\\\\\",\\\\\\\"5\\\\\\\":\\\\\\\"Government\\\\\\\",\\\\\\\"6\\\\\\\":\\\\\\\"Government\\\\\\\",\\\\\\\"7\\\\\\\":\\\\\\\"Self-Employed\\\\\\\",\\\\\\\"8\\\\\\\":\\\\\\\"Government\\\\\\\",\\\\\\\"9\\\\\\\":\\\\\\\"Self-Employed\\\\\\\"},\\\\\\\"education\\\\\\\":{\\\\\\\"0\\\\\\\":\\\\\\\"Assoc\\\\\\\",\\\\\\\"1\\\\\\\":\\\\\\\"Assoc\\\\\\\",\\\\\\\"2\\\\\\\":\\\\\\\"Masters\\\\\\\",\\\\\\\"3\\\\\\\":\\\\\\\"Prof-school\\\\\\\",\\\\\\\"4\\\\\\\":\\\\\\\"Some-college\\\\\\\",\\\\\\\"5\\\\\\\":\\\\\\\"Doctorate\\\\\\\",\\\\\\\"6\\\\\\\":\\\\\\\"Doctorate\\\\\\\",\\\\\\\"7\\\\\\\":\\\\\\\"Some-college\\\\\\\",\\\\\\\"8\\\\\\\":\\\\\\\"Prof-school\\\\\\\",\\\\\\\"9\\\\\\\":\\\\\\\"Some-college\\\\\\\"},\\\\\\\"marital_status\\\\\\\":{\\\\\\\"0\\\\\\\":\\\\\\\"Married\\\\\\\",\\\\\\\"1\\\\\\\":\\\\\\\"Married\\\\\\\",\\\\\\\"2\\\\\\\":\\\\\\\"Widowed\\\\\\\",\\\\\\\"3\\\\\\\":\\\\\\\"Widowed\\\\\\\",\\\\\\\"4\\\\\\\":\\\\\\\"Married\\\\\\\",\\\\\\\"5\\\\\\\":\\\\\\\"Separated\\\\\\\",\\\\\\\"6\\\\\\\":\\\\\\\"Separated\\\\\\\",\\\\\\\"7\\\\\\\":\\\\\\\"Married\\\\\\\",\\\\\\\"8\\\\\\\":\\\\\\\"Separated\\\\\\\",\\\\\\\"9\\\\\\\":\\\\\\\"Married\\\\\\\"},\\\\\\\"occupation\\\\\\\":{\\\\\\\"0\\\\\\\":\\\\\\\"Professional\\\\\\\",\\\\\\\"1\\\\\\\":\\\\\\\"Professional\\\\\\\",\\\\\\\"2\\\\\\\":\\\\\\\"Blue-Collar\\\\\\\",\\\\\\\"3\\\\\\\":\\\\\\\"Other\\\\\\\\/Unknown\\\\\\\",\\\\\\\"4\\\\\\\":\\\\\\\"Professional\\\\\\\",\\\\\\\"5\\\\\\\":\\\\\\\"Sales\\\\\\\",\\\\\\\"6\\\\\\\":\\\\\\\"Sales\\\\\\\",\\\\\\\"7\\\\\\\":\\\\\\\"Professional\\\\\\\",\\\\\\\"8\\\\\\\":\\\\\\\"Other\\\\\\\\/Unknown\\\\\\\",\\\\\\\"9\\\\\\\":\\\\\\\"Professional\\\\\\\"},\\\\\\\"race\\\\\\\":{\\\\\\\"0\\\\\\\":\\\\\\\"White\\\\\\\",\\\\\\\"1\\\\\\\":\\\\\\\"White\\\\\\\",\\\\\\\"2\\\\\\\":\\\\\\\"Other\\\\\\\",\\\\\\\"3\\\\\\\":\\\\\\\"Other\\\\\\\",\\\\\\\"4\\\\\\\":\\\\\\\"White\\\\\\\",\\\\\\\"5\\\\\\\":\\\\\\\"Other\\\\\\\",\\\\\\\"6\\\\\\\":\\\\\\\"Other\\\\\\\",\\\\\\\"7\\\\\\\":\\\\\\\"White\\\\\\\",\\\\\\\"8\\\\\\\":\\\\\\\"Other\\\\\\\",\\\\\\\"9\\\\\\\":\\\\\\\"White\\\\\\\"},\\\\\\\"gender\\\\\\\":{\\\\\\\"0\\\\\\\":\\\\\\\"Female\\\\\\\",\\\\\\\"1\\\\\\\":\\\\\\\"Female\\\\\\\",\\\\\\\"2\\\\\\\":\\\\\\\"Male\\\\\\\",\\\\\\\"3\\\\\\\":\\\\\\\"Male\\\\\\\",\\\\\\\"4\\\\\\\":\\\\\\\"Female\\\\\\\",\\\\\\\"5\\\\\\\":\\\\\\\"Male\\\\\\\",\\\\\\\"6\\\\\\\":\\\\\\\"Male\\\\\\\",\\\\\\\"7\\\\\\\":\\\\\\\"Female\\\\\\\",\\\\\\\"8\\\\\\\":\\\\\\\"Male\\\\\\\",\\\\\\\"9\\\\\\\":\\\\\\\"Female\\\\\\\"},\\\\\\\"hours_per_week\\\\\\\":{\\\\\\\"0\\\\\\\":36.0,\\\\\\\"1\\\\\\\":85.0,\\\\\\\"2\\\\\\\":53.0,\\\\\\\"3\\\\\\\":75.0,\\\\\\\"4\\\\\\\":37.0,\\\\\\\"5\\\\\\\":46.0,\\\\\\\"6\\\\\\\":54.0,\\\\\\\"7\\\\\\\":50.0,\\\\\\\"8\\\\\\\":50.0,\\\\\\\"9\\\\\\\":60.0},\\\\\\\"income\\\\\\\":{\\\\\\\"0\\\\\\\":0.59,\\\\\\\"1\\\\\\\":0.671,\\\\\\\"2\\\\\\\":0.58,\\\\\\\"3\\\\\\\":0.854,\\\\\\\"4\\\\\\\":0.585,\\\\\\\"5\\\\\\\":0.715,\\\\\\\"6\\\\\\\":0.768,\\\\\\\"7\\\\\\\":0.52,\\\\\\\"8\\\\\\\":0.771,\\\\\\\"9\\\\\\\":0.519}}\\\"}\",\n",
      "    \"{\\\"model_type\\\": \\\"classifier\\\", \\\"desired_class\\\": 0.0, \\\"desired_range\\\": null, \\\"test_instance_df\\\": \\\"{\\\\\\\"age\\\\\\\":{\\\\\\\"0\\\\\\\":54},\\\\\\\"workclass\\\\\\\":{\\\\\\\"0\\\\\\\":\\\\\\\"Other\\\\\\\\/Unknown\\\\\\\"},\\\\\\\"education\\\\\\\":{\\\\\\\"0\\\\\\\":\\\\\\\"Some-college\\\\\\\"},\\\\\\\"marital_status\\\\\\\":{\\\\\\\"0\\\\\\\":\\\\\\\"Married\\\\\\\"},\\\\\\\"occupation\\\\\\\":{\\\\\\\"0\\\\\\\":\\\\\\\"Other\\\\\\\\/Unknown\\\\\\\"},\\\\\\\"race\\\\\\\":{\\\\\\\"0\\\\\\\":\\\\\\\"Other\\\\\\\"},\\\\\\\"gender\\\\\\\":{\\\\\\\"0\\\\\\\":\\\\\\\"Male\\\\\\\"},\\\\\\\"hours_per_week\\\\\\\":{\\\\\\\"0\\\\\\\":60},\\\\\\\"income\\\\\\\":{\\\\\\\"0\\\\\\\":0.625}}\\\", \\\"final_cfs_df\\\": \\\"{\\\\\\\"age\\\\\\\":{\\\\\\\"0\\\\\\\":82.0,\\\\\\\"1\\\\\\\":66.0,\\\\\\\"2\\\\\\\":65.0,\\\\\\\"3\\\\\\\":70.0,\\\\\\\"4\\\\\\\":22.0,\\\\\\\"5\\\\\\\":66.0,\\\\\\\"6\\\\\\\":83.0,\\\\\\\"7\\\\\\\":88.0,\\\\\\\"8\\\\\\\":25.0,\\\\\\\"9\\\\\\\":25.0},\\\\\\\"workclass\\\\\\\":{\\\\\\\"0\\\\\\\":\\\\\\\"Self-Employed\\\\\\\",\\\\\\\"1\\\\\\\":\\\\\\\"Government\\\\\\\",\\\\\\\"2\\\\\\\":\\\\\\\"Self-Employed\\\\\\\",\\\\\\\"3\\\\\\\":\\\\\\\"Self-Employed\\\\\\\",\\\\\\\"4\\\\\\\":\\\\\\\"Private\\\\\\\",\\\\\\\"5\\\\\\\":\\\\\\\"Government\\\\\\\",\\\\\\\"6\\\\\\\":\\\\\\\"Other\\\\\\\\/Unknown\\\\\\\",\\\\\\\"7\\\\\\\":\\\\\\\"Private\\\\\\\",\\\\\\\"8\\\\\\\":\\\\\\\"Self-Employed\\\\\\\",\\\\\\\"9\\\\\\\":\\\\\\\"Private\\\\\\\"},\\\\\\\"education\\\\\\\":{\\\\\\\"0\\\\\\\":\\\\\\\"School\\\\\\\",\\\\\\\"1\\\\\\\":\\\\\\\"Doctorate\\\\\\\",\\\\\\\"2\\\\\\\":\\\\\\\"School\\\\\\\",\\\\\\\"3\\\\\\\":\\\\\\\"Some-college\\\\\\\",\\\\\\\"4\\\\\\\":\\\\\\\"Bachelors\\\\\\\",\\\\\\\"5\\\\\\\":\\\\\\\"Doctorate\\\\\\\",\\\\\\\"6\\\\\\\":\\\\\\\"Masters\\\\\\\",\\\\\\\"7\\\\\\\":\\\\\\\"Assoc\\\\\\\",\\\\\\\"8\\\\\\\":\\\\\\\"Some-college\\\\\\\",\\\\\\\"9\\\\\\\":\\\\\\\"Assoc\\\\\\\"},\\\\\\\"marital_status\\\\\\\":{\\\\\\\"0\\\\\\\":\\\\\\\"Divorced\\\\\\\",\\\\\\\"1\\\\\\\":\\\\\\\"Separated\\\\\\\",\\\\\\\"2\\\\\\\":\\\\\\\"Divorced\\\\\\\",\\\\\\\"3\\\\\\\":\\\\\\\"Married\\\\\\\",\\\\\\\"4\\\\\\\":\\\\\\\"Single\\\\\\\",\\\\\\\"5\\\\\\\":\\\\\\\"Separated\\\\\\\",\\\\\\\"6\\\\\\\":\\\\\\\"Widowed\\\\\\\",\\\\\\\"7\\\\\\\":\\\\\\\"Single\\\\\\\",\\\\\\\"8\\\\\\\":\\\\\\\"Married\\\\\\\",\\\\\\\"9\\\\\\\":\\\\\\\"Single\\\\\\\"},\\\\\\\"occupation\\\\\\\":{\\\\\\\"0\\\\\\\":\\\\\\\"Service\\\\\\\",\\\\\\\"1\\\\\\\":\\\\\\\"Sales\\\\\\\",\\\\\\\"2\\\\\\\":\\\\\\\"Service\\\\\\\",\\\\\\\"3\\\\\\\":\\\\\\\"Professional\\\\\\\",\\\\\\\"4\\\\\\\":\\\\\\\"White-Collar\\\\\\\",\\\\\\\"5\\\\\\\":\\\\\\\"Sales\\\\\\\",\\\\\\\"6\\\\\\\":\\\\\\\"Blue-Collar\\\\\\\",\\\\\\\"7\\\\\\\":\\\\\\\"Professional\\\\\\\",\\\\\\\"8\\\\\\\":\\\\\\\"Professional\\\\\\\",\\\\\\\"9\\\\\\\":\\\\\\\"Professional\\\\\\\"},\\\\\\\"race\\\\\\\":{\\\\\\\"0\\\\\\\":\\\\\\\"White\\\\\\\",\\\\\\\"1\\\\\\\":\\\\\\\"Other\\\\\\\",\\\\\\\"2\\\\\\\":\\\\\\\"White\\\\\\\",\\\\\\\"3\\\\\\\":\\\\\\\"White\\\\\\\",\\\\\\\"4\\\\\\\":\\\\\\\"White\\\\\\\",\\\\\\\"5\\\\\\\":\\\\\\\"Other\\\\\\\",\\\\\\\"6\\\\\\\":\\\\\\\"Other\\\\\\\",\\\\\\\"7\\\\\\\":\\\\\\\"White\\\\\\\",\\\\\\\"8\\\\\\\":\\\\\\\"White\\\\\\\",\\\\\\\"9\\\\\\\":\\\\\\\"White\\\\\\\"},\\\\\\\"gender\\\\\\\":{\\\\\\\"0\\\\\\\":\\\\\\\"Female\\\\\\\",\\\\\\\"1\\\\\\\":\\\\\\\"Male\\\\\\\",\\\\\\\"2\\\\\\\":\\\\\\\"Female\\\\\\\",\\\\\\\"3\\\\\\\":\\\\\\\"Female\\\\\\\",\\\\\\\"4\\\\\\\":\\\\\\\"Female\\\\\\\",\\\\\\\"5\\\\\\\":\\\\\\\"Male\\\\\\\",\\\\\\\"6\\\\\\\":\\\\\\\"Male\\\\\\\",\\\\\\\"7\\\\\\\":\\\\\\\"Female\\\\\\\",\\\\\\\"8\\\\\\\":\\\\\\\"Female\\\\\\\",\\\\\\\"9\\\\\\\":\\\\\\\"Female\\\\\\\"},\\\\\\\"hours_per_week\\\\\\\":{\\\\\\\"0\\\\\\\":79.0,\\\\\\\"1\\\\\\\":73.0,\\\\\\\"2\\\\\\\":38.0,\\\\\\\"3\\\\\\\":95.0,\\\\\\\"4\\\\\\\":46.0,\\\\\\\"5\\\\\\\":25.0,\\\\\\\"6\\\\\\\":33.0,\\\\\\\"7\\\\\\\":17.0,\\\\\\\"8\\\\\\\":53.0,\\\\\\\"9\\\\\\\":37.0},\\\\\\\"income\\\\\\\":{\\\\\\\"0\\\\\\\":0.01,\\\\\\\"1\\\\\\\":0.297,\\\\\\\"2\\\\\\\":0.011,\\\\\\\"3\\\\\\\":0.28,\\\\\\\"4\\\\\\\":0.007,\\\\\\\"5\\\\\\\":0.05,\\\\\\\"6\\\\\\\":0.049,\\\\\\\"7\\\\\\\":0.007,\\\\\\\"8\\\\\\\":0.476,\\\\\\\"9\\\\\\\":0.033}}\\\"}\",\n",
      "    \"{\\\"model_type\\\": \\\"classifier\\\", \\\"desired_class\\\": 1.0, \\\"desired_range\\\": null, \\\"test_instance_df\\\": \\\"{\\\\\\\"age\\\\\\\":{\\\\\\\"0\\\\\\\":31},\\\\\\\"workclass\\\\\\\":{\\\\\\\"0\\\\\\\":\\\\\\\"Private\\\\\\\"},\\\\\\\"education\\\\\\\":{\\\\\\\"0\\\\\\\":\\\\\\\"Some-college\\\\\\\"},\\\\\\\"marital_status\\\\\\\":{\\\\\\\"0\\\\\\\":\\\\\\\"Divorced\\\\\\\"},\\\\\\\"occupation\\\\\\\":{\\\\\\\"0\\\\\\\":\\\\\\\"Blue-Collar\\\\\\\"},\\\\\\\"race\\\\\\\":{\\\\\\\"0\\\\\\\":\\\\\\\"White\\\\\\\"},\\\\\\\"gender\\\\\\\":{\\\\\\\"0\\\\\\\":\\\\\\\"Male\\\\\\\"},\\\\\\\"hours_per_week\\\\\\\":{\\\\\\\"0\\\\\\\":40},\\\\\\\"income\\\\\\\":{\\\\\\\"0\\\\\\\":0.035}}\\\", \\\"final_cfs_df\\\": \\\"{\\\\\\\"age\\\\\\\":{\\\\\\\"0\\\\\\\":50.0,\\\\\\\"1\\\\\\\":39.0,\\\\\\\"2\\\\\\\":51.0,\\\\\\\"3\\\\\\\":44.0,\\\\\\\"4\\\\\\\":56.0,\\\\\\\"5\\\\\\\":48.0,\\\\\\\"6\\\\\\\":53.0,\\\\\\\"7\\\\\\\":51.0,\\\\\\\"8\\\\\\\":51.0,\\\\\\\"9\\\\\\\":60.0},\\\\\\\"workclass\\\\\\\":{\\\\\\\"0\\\\\\\":\\\\\\\"Private\\\\\\\",\\\\\\\"1\\\\\\\":\\\\\\\"Private\\\\\\\",\\\\\\\"2\\\\\\\":\\\\\\\"Other\\\\\\\\/Unknown\\\\\\\",\\\\\\\"3\\\\\\\":\\\\\\\"Government\\\\\\\",\\\\\\\"4\\\\\\\":\\\\\\\"Self-Employed\\\\\\\",\\\\\\\"5\\\\\\\":\\\\\\\"Government\\\\\\\",\\\\\\\"6\\\\\\\":\\\\\\\"Government\\\\\\\",\\\\\\\"7\\\\\\\":\\\\\\\"Self-Employed\\\\\\\",\\\\\\\"8\\\\\\\":\\\\\\\"Government\\\\\\\",\\\\\\\"9\\\\\\\":\\\\\\\"Self-Employed\\\\\\\"},\\\\\\\"education\\\\\\\":{\\\\\\\"0\\\\\\\":\\\\\\\"Assoc\\\\\\\",\\\\\\\"1\\\\\\\":\\\\\\\"Assoc\\\\\\\",\\\\\\\"2\\\\\\\":\\\\\\\"Masters\\\\\\\",\\\\\\\"3\\\\\\\":\\\\\\\"Prof-school\\\\\\\",\\\\\\\"4\\\\\\\":\\\\\\\"Some-college\\\\\\\",\\\\\\\"5\\\\\\\":\\\\\\\"Doctorate\\\\\\\",\\\\\\\"6\\\\\\\":\\\\\\\"Doctorate\\\\\\\",\\\\\\\"7\\\\\\\":\\\\\\\"Some-college\\\\\\\",\\\\\\\"8\\\\\\\":\\\\\\\"Prof-school\\\\\\\",\\\\\\\"9\\\\\\\":\\\\\\\"Some-college\\\\\\\"},\\\\\\\"marital_status\\\\\\\":{\\\\\\\"0\\\\\\\":\\\\\\\"Married\\\\\\\",\\\\\\\"1\\\\\\\":\\\\\\\"Married\\\\\\\",\\\\\\\"2\\\\\\\":\\\\\\\"Widowed\\\\\\\",\\\\\\\"3\\\\\\\":\\\\\\\"Widowed\\\\\\\",\\\\\\\"4\\\\\\\":\\\\\\\"Married\\\\\\\",\\\\\\\"5\\\\\\\":\\\\\\\"Separated\\\\\\\",\\\\\\\"6\\\\\\\":\\\\\\\"Separated\\\\\\\",\\\\\\\"7\\\\\\\":\\\\\\\"Married\\\\\\\",\\\\\\\"8\\\\\\\":\\\\\\\"Separated\\\\\\\",\\\\\\\"9\\\\\\\":\\\\\\\"Married\\\\\\\"},\\\\\\\"occupation\\\\\\\":{\\\\\\\"0\\\\\\\":\\\\\\\"Professional\\\\\\\",\\\\\\\"1\\\\\\\":\\\\\\\"Professional\\\\\\\",\\\\\\\"2\\\\\\\":\\\\\\\"Blue-Collar\\\\\\\",\\\\\\\"3\\\\\\\":\\\\\\\"Other\\\\\\\\/Unknown\\\\\\\",\\\\\\\"4\\\\\\\":\\\\\\\"Professional\\\\\\\",\\\\\\\"5\\\\\\\":\\\\\\\"Sales\\\\\\\",\\\\\\\"6\\\\\\\":\\\\\\\"Sales\\\\\\\",\\\\\\\"7\\\\\\\":\\\\\\\"Professional\\\\\\\",\\\\\\\"8\\\\\\\":\\\\\\\"Other\\\\\\\\/Unknown\\\\\\\",\\\\\\\"9\\\\\\\":\\\\\\\"Professional\\\\\\\"},\\\\\\\"race\\\\\\\":{\\\\\\\"0\\\\\\\":\\\\\\\"White\\\\\\\",\\\\\\\"1\\\\\\\":\\\\\\\"White\\\\\\\",\\\\\\\"2\\\\\\\":\\\\\\\"Other\\\\\\\",\\\\\\\"3\\\\\\\":\\\\\\\"Other\\\\\\\",\\\\\\\"4\\\\\\\":\\\\\\\"White\\\\\\\",\\\\\\\"5\\\\\\\":\\\\\\\"Other\\\\\\\",\\\\\\\"6\\\\\\\":\\\\\\\"Other\\\\\\\",\\\\\\\"7\\\\\\\":\\\\\\\"White\\\\\\\",\\\\\\\"8\\\\\\\":\\\\\\\"Other\\\\\\\",\\\\\\\"9\\\\\\\":\\\\\\\"White\\\\\\\"},\\\\\\\"gender\\\\\\\":{\\\\\\\"0\\\\\\\":\\\\\\\"Female\\\\\\\",\\\\\\\"1\\\\\\\":\\\\\\\"Female\\\\\\\",\\\\\\\"2\\\\\\\":\\\\\\\"Male\\\\\\\",\\\\\\\"3\\\\\\\":\\\\\\\"Male\\\\\\\",\\\\\\\"4\\\\\\\":\\\\\\\"Female\\\\\\\",\\\\\\\"5\\\\\\\":\\\\\\\"Male\\\\\\\",\\\\\\\"6\\\\\\\":\\\\\\\"Male\\\\\\\",\\\\\\\"7\\\\\\\":\\\\\\\"Female\\\\\\\",\\\\\\\"8\\\\\\\":\\\\\\\"Male\\\\\\\",\\\\\\\"9\\\\\\\":\\\\\\\"Female\\\\\\\"},\\\\\\\"hours_per_week\\\\\\\":{\\\\\\\"0\\\\\\\":36.0,\\\\\\\"1\\\\\\\":85.0,\\\\\\\"2\\\\\\\":53.0,\\\\\\\"3\\\\\\\":75.0,\\\\\\\"4\\\\\\\":37.0,\\\\\\\"5\\\\\\\":46.0,\\\\\\\"6\\\\\\\":54.0,\\\\\\\"7\\\\\\\":50.0,\\\\\\\"8\\\\\\\":50.0,\\\\\\\"9\\\\\\\":60.0},\\\\\\\"income\\\\\\\":{\\\\\\\"0\\\\\\\":0.59,\\\\\\\"1\\\\\\\":0.671,\\\\\\\"2\\\\\\\":0.58,\\\\\\\"3\\\\\\\":0.854,\\\\\\\"4\\\\\\\":0.585,\\\\\\\"5\\\\\\\":0.715,\\\\\\\"6\\\\\\\":0.768,\\\\\\\"7\\\\\\\":0.52,\\\\\\\"8\\\\\\\":0.771,\\\\\\\"9\\\\\\\":0.519}}\\\"}\"\n",
      "  ],\n",
      "  \"local_importance\": [\n",
      "    {\n",
      "      \"workclass\": 0.8,\n",
      "      \"education\": 1.0,\n",
      "      \"marital_status\": 0.5,\n",
      "      \"occupation\": 0.9,\n",
      "      \"race\": 0.5,\n",
      "      \"gender\": 0.5,\n",
      "      \"age\": 1.0,\n",
      "      \"hours_per_week\": 1.0\n",
      "    },\n",
      "    {\n",
      "      \"workclass\": 0.9,\n",
      "      \"education\": 0.8,\n",
      "      \"marital_status\": 0.8,\n",
      "      \"occupation\": 1.0,\n",
      "      \"race\": 0.7,\n",
      "      \"gender\": 0.7,\n",
      "      \"age\": 1.0,\n",
      "      \"hours_per_week\": 1.0\n",
      "    },\n",
      "    {\n",
      "      \"workclass\": 0.8,\n",
      "      \"education\": 0.7,\n",
      "      \"marital_status\": 1.0,\n",
      "      \"occupation\": 0.9,\n",
      "      \"race\": 0.5,\n",
      "      \"gender\": 0.5,\n",
      "      \"age\": 1.0,\n",
      "      \"hours_per_week\": 1.0\n",
      "    }\n",
      "  ],\n",
      "  \"summary_importance\": {\n",
      "    \"workclass\": 0.8333333333333334,\n",
      "    \"education\": 0.8333333333333334,\n",
      "    \"marital_status\": 0.7666666666666667,\n",
      "    \"occupation\": 0.9333333333333333,\n",
      "    \"race\": 0.5666666666666667,\n",
      "    \"gender\": 0.5666666666666667,\n",
      "    \"age\": 1.0,\n",
      "    \"hours_per_week\": 1.0\n",
      "  },\n",
      "  \"metadata\": {\n",
      "    \"version\": \"1\"\n",
      "  }\n",
      "}\n"
     ]
    }
   ],
   "source": [
    "json_str = cobj.to_json()\n",
    "print(json_str)"
   ]
  },
  {
   "cell_type": "markdown",
   "metadata": {},
   "source": [
    "## Convert the json output to a counterfactual object"
   ]
  },
  {
   "cell_type": "code",
   "execution_count": 11,
   "metadata": {},
   "outputs": [
    {
     "ename": "AttributeError",
     "evalue": "'NoneType' object has no attribute 'outcome_name'",
     "output_type": "error",
     "traceback": [
      "\u001b[0;31m---------------------------------------------------------------------------\u001b[0m",
      "\u001b[0;31mAttributeError\u001b[0m                            Traceback (most recent call last)",
      "\u001b[0;32m<ipython-input-11-b1fe0076d943>\u001b[0m in \u001b[0;36m<module>\u001b[0;34m\u001b[0m\n\u001b[0;32m----> 1\u001b[0;31m \u001b[0mimp_r\u001b[0m\u001b[0;34m=\u001b[0m\u001b[0mimp\u001b[0m\u001b[0;34m.\u001b[0m\u001b[0mfrom_json\u001b[0m\u001b[0;34m(\u001b[0m\u001b[0mjson_str\u001b[0m\u001b[0;34m)\u001b[0m\u001b[0;34m\u001b[0m\u001b[0;34m\u001b[0m\u001b[0m\n\u001b[0m\u001b[1;32m      2\u001b[0m \u001b[0mprint\u001b[0m\u001b[0;34m(\u001b[0m\u001b[0;34m[\u001b[0m\u001b[0mo\u001b[0m\u001b[0;34m.\u001b[0m\u001b[0mvisualize_as_dataframe\u001b[0m\u001b[0;34m(\u001b[0m\u001b[0;34m)\u001b[0m \u001b[0;32mfor\u001b[0m \u001b[0mo\u001b[0m \u001b[0;32min\u001b[0m \u001b[0mimp_r\u001b[0m\u001b[0;34m.\u001b[0m\u001b[0mcf_examples_list\u001b[0m\u001b[0;34m]\u001b[0m\u001b[0;34m)\u001b[0m\u001b[0;34m\u001b[0m\u001b[0;34m\u001b[0m\u001b[0m\n\u001b[1;32m      3\u001b[0m \u001b[0mprint\u001b[0m\u001b[0;34m(\u001b[0m\u001b[0mimp_r\u001b[0m\u001b[0;34m.\u001b[0m\u001b[0mlocal_importance\u001b[0m\u001b[0;34m)\u001b[0m\u001b[0;34m\u001b[0m\u001b[0;34m\u001b[0m\u001b[0m\n\u001b[1;32m      4\u001b[0m \u001b[0mprint\u001b[0m\u001b[0;34m(\u001b[0m\u001b[0mimp_r\u001b[0m\u001b[0;34m.\u001b[0m\u001b[0msummary_importance\u001b[0m\u001b[0;34m)\u001b[0m\u001b[0;34m\u001b[0m\u001b[0;34m\u001b[0m\u001b[0m\n",
      "\u001b[0;32m/mnt/c/Users/amshar.FAREAST/code/dice/dice_ml/counterfactual_explanations.py\u001b[0m in \u001b[0;36mfrom_json\u001b[0;34m(json_str)\u001b[0m\n\u001b[1;32m     76\u001b[0m         \"\"\" Deserialize json string to a CounterfactualExplanations object.\n\u001b[1;32m     77\u001b[0m         \"\"\"\n\u001b[0;32m---> 78\u001b[0;31m         \u001b[0;32mreturn\u001b[0m \u001b[0mjson\u001b[0m\u001b[0;34m.\u001b[0m\u001b[0mloads\u001b[0m\u001b[0;34m(\u001b[0m\u001b[0mjson_str\u001b[0m\u001b[0;34m,\u001b[0m \u001b[0mobject_hook\u001b[0m\u001b[0;34m=\u001b[0m\u001b[0mas_counterfactual_explanations\u001b[0m\u001b[0;34m)\u001b[0m\u001b[0;34m\u001b[0m\u001b[0;34m\u001b[0m\u001b[0m\n\u001b[0m",
      "\u001b[0;32m/usr/lib/python3.8/json/__init__.py\u001b[0m in \u001b[0;36mloads\u001b[0;34m(s, cls, object_hook, parse_float, parse_int, parse_constant, object_pairs_hook, **kw)\u001b[0m\n\u001b[1;32m    368\u001b[0m     \u001b[0;32mif\u001b[0m \u001b[0mparse_constant\u001b[0m \u001b[0;32mis\u001b[0m \u001b[0;32mnot\u001b[0m \u001b[0;32mNone\u001b[0m\u001b[0;34m:\u001b[0m\u001b[0;34m\u001b[0m\u001b[0;34m\u001b[0m\u001b[0m\n\u001b[1;32m    369\u001b[0m         \u001b[0mkw\u001b[0m\u001b[0;34m[\u001b[0m\u001b[0;34m'parse_constant'\u001b[0m\u001b[0;34m]\u001b[0m \u001b[0;34m=\u001b[0m \u001b[0mparse_constant\u001b[0m\u001b[0;34m\u001b[0m\u001b[0;34m\u001b[0m\u001b[0m\n\u001b[0;32m--> 370\u001b[0;31m     \u001b[0;32mreturn\u001b[0m \u001b[0mcls\u001b[0m\u001b[0;34m(\u001b[0m\u001b[0;34m**\u001b[0m\u001b[0mkw\u001b[0m\u001b[0;34m)\u001b[0m\u001b[0;34m.\u001b[0m\u001b[0mdecode\u001b[0m\u001b[0;34m(\u001b[0m\u001b[0ms\u001b[0m\u001b[0;34m)\u001b[0m\u001b[0;34m\u001b[0m\u001b[0;34m\u001b[0m\u001b[0m\n\u001b[0m",
      "\u001b[0;32m/usr/lib/python3.8/json/decoder.py\u001b[0m in \u001b[0;36mdecode\u001b[0;34m(self, s, _w)\u001b[0m\n\u001b[1;32m    335\u001b[0m \u001b[0;34m\u001b[0m\u001b[0m\n\u001b[1;32m    336\u001b[0m         \"\"\"\n\u001b[0;32m--> 337\u001b[0;31m         \u001b[0mobj\u001b[0m\u001b[0;34m,\u001b[0m \u001b[0mend\u001b[0m \u001b[0;34m=\u001b[0m \u001b[0mself\u001b[0m\u001b[0;34m.\u001b[0m\u001b[0mraw_decode\u001b[0m\u001b[0;34m(\u001b[0m\u001b[0ms\u001b[0m\u001b[0;34m,\u001b[0m \u001b[0midx\u001b[0m\u001b[0;34m=\u001b[0m\u001b[0m_w\u001b[0m\u001b[0;34m(\u001b[0m\u001b[0ms\u001b[0m\u001b[0;34m,\u001b[0m \u001b[0;36m0\u001b[0m\u001b[0;34m)\u001b[0m\u001b[0;34m.\u001b[0m\u001b[0mend\u001b[0m\u001b[0;34m(\u001b[0m\u001b[0;34m)\u001b[0m\u001b[0;34m)\u001b[0m\u001b[0;34m\u001b[0m\u001b[0;34m\u001b[0m\u001b[0m\n\u001b[0m\u001b[1;32m    338\u001b[0m         \u001b[0mend\u001b[0m \u001b[0;34m=\u001b[0m \u001b[0m_w\u001b[0m\u001b[0;34m(\u001b[0m\u001b[0ms\u001b[0m\u001b[0;34m,\u001b[0m \u001b[0mend\u001b[0m\u001b[0;34m)\u001b[0m\u001b[0;34m.\u001b[0m\u001b[0mend\u001b[0m\u001b[0;34m(\u001b[0m\u001b[0;34m)\u001b[0m\u001b[0;34m\u001b[0m\u001b[0;34m\u001b[0m\u001b[0m\n\u001b[1;32m    339\u001b[0m         \u001b[0;32mif\u001b[0m \u001b[0mend\u001b[0m \u001b[0;34m!=\u001b[0m \u001b[0mlen\u001b[0m\u001b[0;34m(\u001b[0m\u001b[0ms\u001b[0m\u001b[0;34m)\u001b[0m\u001b[0;34m:\u001b[0m\u001b[0;34m\u001b[0m\u001b[0;34m\u001b[0m\u001b[0m\n",
      "\u001b[0;32m/usr/lib/python3.8/json/decoder.py\u001b[0m in \u001b[0;36mraw_decode\u001b[0;34m(self, s, idx)\u001b[0m\n\u001b[1;32m    351\u001b[0m         \"\"\"\n\u001b[1;32m    352\u001b[0m         \u001b[0;32mtry\u001b[0m\u001b[0;34m:\u001b[0m\u001b[0;34m\u001b[0m\u001b[0;34m\u001b[0m\u001b[0m\n\u001b[0;32m--> 353\u001b[0;31m             \u001b[0mobj\u001b[0m\u001b[0;34m,\u001b[0m \u001b[0mend\u001b[0m \u001b[0;34m=\u001b[0m \u001b[0mself\u001b[0m\u001b[0;34m.\u001b[0m\u001b[0mscan_once\u001b[0m\u001b[0;34m(\u001b[0m\u001b[0ms\u001b[0m\u001b[0;34m,\u001b[0m \u001b[0midx\u001b[0m\u001b[0;34m)\u001b[0m\u001b[0;34m\u001b[0m\u001b[0;34m\u001b[0m\u001b[0m\n\u001b[0m\u001b[1;32m    354\u001b[0m         \u001b[0;32mexcept\u001b[0m \u001b[0mStopIteration\u001b[0m \u001b[0;32mas\u001b[0m \u001b[0merr\u001b[0m\u001b[0;34m:\u001b[0m\u001b[0;34m\u001b[0m\u001b[0;34m\u001b[0m\u001b[0m\n\u001b[1;32m    355\u001b[0m             \u001b[0;32mraise\u001b[0m \u001b[0mJSONDecodeError\u001b[0m\u001b[0;34m(\u001b[0m\u001b[0;34m\"Expecting value\"\u001b[0m\u001b[0;34m,\u001b[0m \u001b[0ms\u001b[0m\u001b[0;34m,\u001b[0m \u001b[0merr\u001b[0m\u001b[0;34m.\u001b[0m\u001b[0mvalue\u001b[0m\u001b[0;34m)\u001b[0m \u001b[0;32mfrom\u001b[0m \u001b[0;32mNone\u001b[0m\u001b[0;34m\u001b[0m\u001b[0;34m\u001b[0m\u001b[0m\n",
      "\u001b[0;32m/mnt/c/Users/amshar.FAREAST/code/dice/dice_ml/counterfactual_explanations.py\u001b[0m in \u001b[0;36mas_counterfactual_explanations\u001b[0;34m(json_dict)\u001b[0m\n\u001b[1;32m     16\u001b[0m             \u001b[0mcfs_df\u001b[0m \u001b[0;34m=\u001b[0m \u001b[0mpd\u001b[0m\u001b[0;34m.\u001b[0m\u001b[0mread_json\u001b[0m\u001b[0;34m(\u001b[0m\u001b[0mcf_examples_dict\u001b[0m\u001b[0;34m[\u001b[0m\u001b[0;34m\"final_cfs_df\"\u001b[0m\u001b[0;34m]\u001b[0m\u001b[0;34m)\u001b[0m\u001b[0;34m\u001b[0m\u001b[0;34m\u001b[0m\u001b[0m\n\u001b[1;32m     17\u001b[0m             cf_examples_list.append(\n\u001b[0;32m---> 18\u001b[0;31m                     counterfactual_examples.CounterfactualExamples(data_interface=None,\n\u001b[0m\u001b[1;32m     19\u001b[0m                                           \u001b[0mtest_instance_df\u001b[0m\u001b[0;34m=\u001b[0m\u001b[0mtest_instance_df\u001b[0m\u001b[0;34m,\u001b[0m\u001b[0;34m\u001b[0m\u001b[0;34m\u001b[0m\u001b[0m\n\u001b[1;32m     20\u001b[0m                                           \u001b[0mfinal_cfs_df\u001b[0m\u001b[0;34m=\u001b[0m\u001b[0mcfs_df\u001b[0m\u001b[0;34m,\u001b[0m\u001b[0;34m\u001b[0m\u001b[0;34m\u001b[0m\u001b[0m\n",
      "\u001b[0;32m/mnt/c/Users/amshar.FAREAST/code/dice/dice_ml/diverse_counterfactuals.py\u001b[0m in \u001b[0;36m__init__\u001b[0;34m(self, data_interface, final_cfs_df, test_instance_df, final_cfs_df_sparse, posthoc_sparsity_param, desired_range, desired_class, model_type)\u001b[0m\n\u001b[1;32m     24\u001b[0m         \u001b[0mself\u001b[0m\u001b[0;34m.\u001b[0m\u001b[0mposthoc_sparsity_param\u001b[0m \u001b[0;34m=\u001b[0m \u001b[0mposthoc_sparsity_param\u001b[0m \u001b[0;31m# might be useful for future additions\u001b[0m\u001b[0;34m\u001b[0m\u001b[0;34m\u001b[0m\u001b[0m\n\u001b[1;32m     25\u001b[0m \u001b[0;34m\u001b[0m\u001b[0m\n\u001b[0;32m---> 26\u001b[0;31m         \u001b[0mself\u001b[0m\u001b[0;34m.\u001b[0m\u001b[0mtest_pred\u001b[0m \u001b[0;34m=\u001b[0m \u001b[0mself\u001b[0m\u001b[0;34m.\u001b[0m\u001b[0mtest_instance_df\u001b[0m\u001b[0;34m[\u001b[0m\u001b[0mself\u001b[0m\u001b[0;34m.\u001b[0m\u001b[0mdata_interface\u001b[0m\u001b[0;34m.\u001b[0m\u001b[0moutcome_name\u001b[0m\u001b[0;34m]\u001b[0m\u001b[0;34m.\u001b[0m\u001b[0miloc\u001b[0m\u001b[0;34m[\u001b[0m\u001b[0;36m0\u001b[0m\u001b[0;34m]\u001b[0m\u001b[0;34m\u001b[0m\u001b[0;34m\u001b[0m\u001b[0m\n\u001b[0m\u001b[1;32m     27\u001b[0m         \u001b[0;32mif\u001b[0m \u001b[0mmodel_type\u001b[0m \u001b[0;34m==\u001b[0m \u001b[0;34m'classifier'\u001b[0m\u001b[0;34m:\u001b[0m\u001b[0;34m\u001b[0m\u001b[0;34m\u001b[0m\u001b[0m\n\u001b[1;32m     28\u001b[0m             \u001b[0;32mif\u001b[0m \u001b[0mdesired_class\u001b[0m \u001b[0;34m==\u001b[0m \u001b[0;34m\"opposite\"\u001b[0m\u001b[0;34m:\u001b[0m\u001b[0;34m\u001b[0m\u001b[0;34m\u001b[0m\u001b[0m\n",
      "\u001b[0;31mAttributeError\u001b[0m: 'NoneType' object has no attribute 'outcome_name'"
     ]
    }
   ],
   "source": [
    "imp_r=imp.from_json(json_str)\n",
    "print([o.visualize_as_dataframe() for o in imp_r.cf_examples_list])\n",
    "print(imp_r.local_importance)\n",
    "print(imp_r.summary_importance)"
   ]
  }
 ],
 "metadata": {
  "kernelspec": {
   "display_name": "Python 3",
   "language": "python",
   "name": "python3"
  },
  "language_info": {
   "codemirror_mode": {
    "name": "ipython",
    "version": 3
   },
   "file_extension": ".py",
   "mimetype": "text/x-python",
   "name": "python",
   "nbconvert_exporter": "python",
   "pygments_lexer": "ipython3",
   "version": "3.8.5"
  }
 },
 "nbformat": 4,
 "nbformat_minor": 4
}

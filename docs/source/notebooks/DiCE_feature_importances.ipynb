{
 "cells": [
  {
   "cell_type": "markdown",
   "metadata": {},
   "source": [
    "# Estimating local and global feature importance scores using DiCE\n",
    "\n",
    "Summaries of counterfactual examples can be used to estimate importance of features. Intuitively, a feature that is changed more often to generate a proximal counterfactual is an important feature. We use this intuition to build a feature importance score. \n",
    "\n",
    "This score can be interpreted as a measure of the **necessity** of a feature to cause a particular model output. That is, if the feature's value changes, then it is likely that the model's output class will also change (or the model's output will significantly change in case of regression model).  \n",
    "\n",
    "Below we show how counterfactuals can be used to provide local feature importance scores for any input, and how those scores can be combined to yield a global importance score for each feature."
   ]
  },
  {
   "cell_type": "code",
   "execution_count": 1,
   "metadata": {},
   "outputs": [],
   "source": [
    "%load_ext autoreload\n",
    "%autoreload 2"
   ]
  },
  {
   "cell_type": "code",
   "execution_count": 2,
   "metadata": {},
   "outputs": [],
   "source": [
    "from sklearn.pipeline import Pipeline\n",
    "from sklearn.preprocessing import StandardScaler, OneHotEncoder\n",
    "from lightgbm import LGBMClassifier\n",
    "import pandas as pd\n",
    "import numpy as np\n",
    "import matplotlib.pyplot as plt"
   ]
  },
  {
   "cell_type": "markdown",
   "metadata": {},
   "source": [
    "## Preliminaries: Loading the data and ML model"
   ]
  },
  {
   "cell_type": "code",
   "execution_count": 3,
   "metadata": {},
   "outputs": [
    {
     "data": {
      "text/plain": [
       "{'age': 'age',\n",
       " 'workclass': 'type of industry (Government, Other/Unknown, Private, Self-Employed)',\n",
       " 'education': 'education level (Assoc, Bachelors, Doctorate, HS-grad, Masters, Prof-school, School, Some-college)',\n",
       " 'marital_status': 'marital status (Divorced, Married, Separated, Single, Widowed)',\n",
       " 'occupation': 'occupation (Blue-Collar, Other/Unknown, Professional, Sales, Service, White-Collar)',\n",
       " 'race': 'white or other race?',\n",
       " 'gender': 'male or female?',\n",
       " 'hours_per_week': 'total work hours per week',\n",
       " 'income': '0 (<=50K) vs 1 (>50K)'}"
      ]
     },
     "execution_count": 3,
     "metadata": {},
     "output_type": "execute_result"
    }
   ],
   "source": [
    "from dice_ml.utils import helpers # helper functions\n",
    "dataset = helpers.load_adult_income_dataset()\n",
    "helpers.get_adult_data_info()"
   ]
  },
  {
   "cell_type": "code",
   "execution_count": 4,
   "metadata": {},
   "outputs": [],
   "source": [
    "target = dataset[\"income\"]\n",
    "# Split data into train and test\n",
    "from sklearn.model_selection import train_test_split\n",
    "datasetX = dataset.drop(\"income\", axis=1)\n",
    "x_train, x_test, y_train, y_test = train_test_split(datasetX, \n",
    "                                                    target, \n",
    "                                                    test_size = 0.2,\n",
    "                                                    random_state=0,\n",
    "                                                    stratify=target)\n",
    "\n",
    "numerical=[\"age\", \"hours_per_week\"]\n",
    "categorical = x_train.columns.difference(numerical) \n",
    "from sklearn.compose import ColumnTransformer\n",
    "\n",
    "# We create the preprocessing pipelines for both numeric and categorical data.\n",
    "numeric_transformer = Pipeline(steps=[\n",
    "    ('scaler', StandardScaler())])\n",
    "\n",
    "categorical_transformer = Pipeline(steps=[\n",
    "    ('onehot', OneHotEncoder(handle_unknown='ignore'))])\n",
    "\n",
    "transformations = ColumnTransformer(\n",
    "    transformers=[\n",
    "        ('num', numeric_transformer, numerical),\n",
    "        ('cat', categorical_transformer, categorical)])\n",
    "\n",
    "# Append classifier to preprocessing pipeline.\n",
    "# Now we have a full prediction pipeline.\n",
    "clf = Pipeline(steps=[('preprocessor', transformations),\n",
    "                      ('classifier', LGBMClassifier())])\n"
   ]
  },
  {
   "cell_type": "code",
   "execution_count": 5,
   "metadata": {},
   "outputs": [],
   "source": [
    "import dice_ml\n",
    "from dice_ml import Dice\n",
    "\n",
    "d = dice_ml.Data(dataframe=dataset, continuous_features=['age', 'hours_per_week'], outcome_name='income')\n",
    "model = clf.fit(x_train, y_train)\n",
    "m = dice_ml.Model(model=model, backend=\"sklearn\")"
   ]
  },
  {
   "cell_type": "markdown",
   "metadata": {},
   "source": [
    "## Local feature importance\n",
    "\n",
    "We first generate counterfactuals for a given input point. "
   ]
  },
  {
   "cell_type": "code",
   "execution_count": 6,
   "metadata": {},
   "outputs": [
    {
     "name": "stdout",
     "output_type": "stream",
     "text": [
      "Diverse Counterfactuals found! total time taken: 00 min 00 sec\n",
      "Query instance (original outcome : 0)\n"
     ]
    },
    {
     "data": {
      "text/html": [
       "<div>\n",
       "<style scoped>\n",
       "    .dataframe tbody tr th:only-of-type {\n",
       "        vertical-align: middle;\n",
       "    }\n",
       "\n",
       "    .dataframe tbody tr th {\n",
       "        vertical-align: top;\n",
       "    }\n",
       "\n",
       "    .dataframe thead th {\n",
       "        text-align: right;\n",
       "    }\n",
       "</style>\n",
       "<table border=\"1\" class=\"dataframe\">\n",
       "  <thead>\n",
       "    <tr style=\"text-align: right;\">\n",
       "      <th></th>\n",
       "      <th>age</th>\n",
       "      <th>workclass</th>\n",
       "      <th>education</th>\n",
       "      <th>marital_status</th>\n",
       "      <th>occupation</th>\n",
       "      <th>race</th>\n",
       "      <th>gender</th>\n",
       "      <th>hours_per_week</th>\n",
       "      <th>income</th>\n",
       "    </tr>\n",
       "  </thead>\n",
       "  <tbody>\n",
       "    <tr>\n",
       "      <th>0</th>\n",
       "      <td>31</td>\n",
       "      <td>Private</td>\n",
       "      <td>Some-college</td>\n",
       "      <td>Divorced</td>\n",
       "      <td>Blue-Collar</td>\n",
       "      <td>White</td>\n",
       "      <td>Male</td>\n",
       "      <td>40</td>\n",
       "      <td>0.035</td>\n",
       "    </tr>\n",
       "  </tbody>\n",
       "</table>\n",
       "</div>"
      ],
      "text/plain": [
       "   age workclass     education marital_status   occupation   race gender  \\\n",
       "0   31   Private  Some-college       Divorced  Blue-Collar  White   Male   \n",
       "\n",
       "   hours_per_week  income  \n",
       "0              40   0.035  "
      ]
     },
     "metadata": {},
     "output_type": "display_data"
    },
    {
     "name": "stdout",
     "output_type": "stream",
     "text": [
      "\n",
      "Diverse Counterfactual set (new outcome: 1.0)\n"
     ]
    },
    {
     "data": {
      "text/html": [
       "<div>\n",
       "<style scoped>\n",
       "    .dataframe tbody tr th:only-of-type {\n",
       "        vertical-align: middle;\n",
       "    }\n",
       "\n",
       "    .dataframe tbody tr th {\n",
       "        vertical-align: top;\n",
       "    }\n",
       "\n",
       "    .dataframe thead th {\n",
       "        text-align: right;\n",
       "    }\n",
       "</style>\n",
       "<table border=\"1\" class=\"dataframe\">\n",
       "  <thead>\n",
       "    <tr style=\"text-align: right;\">\n",
       "      <th></th>\n",
       "      <th>age</th>\n",
       "      <th>workclass</th>\n",
       "      <th>education</th>\n",
       "      <th>marital_status</th>\n",
       "      <th>occupation</th>\n",
       "      <th>race</th>\n",
       "      <th>gender</th>\n",
       "      <th>hours_per_week</th>\n",
       "      <th>income</th>\n",
       "    </tr>\n",
       "  </thead>\n",
       "  <tbody>\n",
       "    <tr>\n",
       "      <th>0</th>\n",
       "      <td>50.0</td>\n",
       "      <td>-</td>\n",
       "      <td>Assoc</td>\n",
       "      <td>Married</td>\n",
       "      <td>Professional</td>\n",
       "      <td>-</td>\n",
       "      <td>Female</td>\n",
       "      <td>-</td>\n",
       "      <td>0.605</td>\n",
       "    </tr>\n",
       "    <tr>\n",
       "      <th>1</th>\n",
       "      <td>39.0</td>\n",
       "      <td>-</td>\n",
       "      <td>Assoc</td>\n",
       "      <td>Married</td>\n",
       "      <td>Professional</td>\n",
       "      <td>-</td>\n",
       "      <td>Female</td>\n",
       "      <td>85.0</td>\n",
       "      <td>0.671</td>\n",
       "    </tr>\n",
       "  </tbody>\n",
       "</table>\n",
       "</div>"
      ],
      "text/plain": [
       "    age workclass education marital_status    occupation race  gender  \\\n",
       "0  50.0         -     Assoc        Married  Professional    -  Female   \n",
       "1  39.0         -     Assoc        Married  Professional    -  Female   \n",
       "\n",
       "  hours_per_week income  \n",
       "0              -  0.605  \n",
       "1           85.0  0.671  "
      ]
     },
     "metadata": {},
     "output_type": "display_data"
    }
   ],
   "source": [
    "exp = Dice(d, m, method=\"random\")\n",
    "query_instance = x_train[2:3]\n",
    "e1 = exp.generate_counterfactuals(query_instance, total_CFs=2)\n",
    "e1.visualize_as_dataframe(show_only_changes=True)"
   ]
  },
  {
   "cell_type": "markdown",
   "metadata": {},
   "source": [
    "These can now be used to calculate the feature importance scores. "
   ]
  },
  {
   "cell_type": "code",
   "execution_count": 7,
   "metadata": {},
   "outputs": [
    {
     "name": "stdout",
     "output_type": "stream",
     "text": [
      "[{'workclass': 0.0, 'education': 1.0, 'marital_status': 1.0, 'occupation': 1.0, 'race': 0.0, 'gender': 1.0, 'age': 1.0, 'hours_per_week': 0.5}]\n"
     ]
    }
   ],
   "source": [
    "imp = exp.feature_importance(query_instance, cf_examples_list=e1.cf_examples_list)\n",
    "print(imp.local_importance)"
   ]
  },
  {
   "cell_type": "markdown",
   "metadata": {},
   "source": [
    "Feature importance can also be estimated directly, by leaving the `cf_examples_list` argument blank."
   ]
  },
  {
   "cell_type": "code",
   "execution_count": 8,
   "metadata": {},
   "outputs": [
    {
     "name": "stdout",
     "output_type": "stream",
     "text": [
      "Diverse Counterfactuals found! total time taken: 00 min 00 sec\n",
      "[{'workclass': 0.8, 'education': 0.7, 'marital_status': 1.0, 'occupation': 0.9, 'race': 0.5, 'gender': 0.5, 'age': 1.0, 'hours_per_week': 1.0}]\n"
     ]
    }
   ],
   "source": [
    "imp = exp.feature_importance(query_instance, posthoc_sparsity_param=None)\n",
    "print(imp.local_importance)"
   ]
  },
  {
   "cell_type": "markdown",
   "metadata": {},
   "source": [
    "## Global importance\n",
    "\n",
    "For global importance, we need to generate counterfactuals for a representative sample of the dataset. "
   ]
  },
  {
   "cell_type": "code",
   "execution_count": 13,
   "metadata": {},
   "outputs": [
    {
     "name": "stdout",
     "output_type": "stream",
     "text": [
      "Diverse Counterfactuals found! total time taken: 00 min 00 sec\n",
      "Diverse Counterfactuals found! total time taken: 00 min 00 sec\n",
      "Diverse Counterfactuals found! total time taken: 00 min 00 sec\n",
      "Diverse Counterfactuals found! total time taken: 00 min 00 sec\n",
      "Diverse Counterfactuals found! total time taken: 00 min 00 sec\n",
      "Diverse Counterfactuals found! total time taken: 00 min 00 sec\n",
      "Diverse Counterfactuals found! total time taken: 00 min 00 sec\n",
      "Diverse Counterfactuals found! total time taken: 00 min 00 sec\n",
      "Diverse Counterfactuals found! total time taken: 00 min 00 sec\n",
      "Diverse Counterfactuals found! total time taken: 00 min 00 sec\n",
      "{'workclass': 0.35, 'education': 1.0, 'marital_status': 0.7, 'occupation': 0.95, 'race': 0.2, 'gender': 0.8, 'age': 1.0, 'hours_per_week': 1.0}\n"
     ]
    }
   ],
   "source": [
    "cobj=exp.feature_importance(x_train[0:10], total_CFs=2, posthoc_sparsity_param=None)\n",
    "print(cobj.summary_importance)"
   ]
  },
  {
   "cell_type": "markdown",
   "metadata": {},
   "source": [
    "## Convert the counterfactual output to json"
   ]
  },
  {
   "cell_type": "code",
   "execution_count": 14,
   "metadata": {},
   "outputs": [
    {
     "name": "stdout",
     "output_type": "stream",
     "text": [
      "{\n",
      "  \"cf_examples_list\": [\n",
      "    \"{\\\"data_interface\\\": {\\\"outcome_name\\\": \\\"income\\\", \\\"data_df\\\": \\\"dummy_data\\\"}, \\\"model_type\\\": \\\"classifier\\\", \\\"desired_class\\\": 1.0, \\\"desired_range\\\": null, \\\"test_instance_df\\\": \\\"{\\\\\\\"age\\\\\\\":{\\\\\\\"0\\\\\\\":38},\\\\\\\"workclass\\\\\\\":{\\\\\\\"0\\\\\\\":\\\\\\\"Private\\\\\\\"},\\\\\\\"education\\\\\\\":{\\\\\\\"0\\\\\\\":\\\\\\\"HS-grad\\\\\\\"},\\\\\\\"marital_status\\\\\\\":{\\\\\\\"0\\\\\\\":\\\\\\\"Married\\\\\\\"},\\\\\\\"occupation\\\\\\\":{\\\\\\\"0\\\\\\\":\\\\\\\"Blue-Collar\\\\\\\"},\\\\\\\"race\\\\\\\":{\\\\\\\"0\\\\\\\":\\\\\\\"White\\\\\\\"},\\\\\\\"gender\\\\\\\":{\\\\\\\"0\\\\\\\":\\\\\\\"Male\\\\\\\"},\\\\\\\"hours_per_week\\\\\\\":{\\\\\\\"0\\\\\\\":44},\\\\\\\"income\\\\\\\":{\\\\\\\"0\\\\\\\":0.367}}\\\", \\\"final_cfs_df\\\": \\\"{\\\\\\\"age\\\\\\\":{\\\\\\\"0\\\\\\\":50.0,\\\\\\\"1\\\\\\\":39.0},\\\\\\\"workclass\\\\\\\":{\\\\\\\"0\\\\\\\":\\\\\\\"Private\\\\\\\",\\\\\\\"1\\\\\\\":\\\\\\\"Private\\\\\\\"},\\\\\\\"education\\\\\\\":{\\\\\\\"0\\\\\\\":\\\\\\\"Assoc\\\\\\\",\\\\\\\"1\\\\\\\":\\\\\\\"Assoc\\\\\\\"},\\\\\\\"marital_status\\\\\\\":{\\\\\\\"0\\\\\\\":\\\\\\\"Married\\\\\\\",\\\\\\\"1\\\\\\\":\\\\\\\"Married\\\\\\\"},\\\\\\\"occupation\\\\\\\":{\\\\\\\"0\\\\\\\":\\\\\\\"Professional\\\\\\\",\\\\\\\"1\\\\\\\":\\\\\\\"Professional\\\\\\\"},\\\\\\\"race\\\\\\\":{\\\\\\\"0\\\\\\\":\\\\\\\"White\\\\\\\",\\\\\\\"1\\\\\\\":\\\\\\\"White\\\\\\\"},\\\\\\\"gender\\\\\\\":{\\\\\\\"0\\\\\\\":\\\\\\\"Female\\\\\\\",\\\\\\\"1\\\\\\\":\\\\\\\"Female\\\\\\\"},\\\\\\\"hours_per_week\\\\\\\":{\\\\\\\"0\\\\\\\":36.0,\\\\\\\"1\\\\\\\":85.0},\\\\\\\"income\\\\\\\":{\\\\\\\"0\\\\\\\":0.59,\\\\\\\"1\\\\\\\":0.671}}\\\"}\",\n",
      "    \"{\\\"data_interface\\\": {\\\"outcome_name\\\": \\\"income\\\", \\\"data_df\\\": \\\"dummy_data\\\"}, \\\"model_type\\\": \\\"classifier\\\", \\\"desired_class\\\": 0.0, \\\"desired_range\\\": null, \\\"test_instance_df\\\": \\\"{\\\\\\\"age\\\\\\\":{\\\\\\\"0\\\\\\\":54},\\\\\\\"workclass\\\\\\\":{\\\\\\\"0\\\\\\\":\\\\\\\"Other\\\\\\\\/Unknown\\\\\\\"},\\\\\\\"education\\\\\\\":{\\\\\\\"0\\\\\\\":\\\\\\\"Some-college\\\\\\\"},\\\\\\\"marital_status\\\\\\\":{\\\\\\\"0\\\\\\\":\\\\\\\"Married\\\\\\\"},\\\\\\\"occupation\\\\\\\":{\\\\\\\"0\\\\\\\":\\\\\\\"Other\\\\\\\\/Unknown\\\\\\\"},\\\\\\\"race\\\\\\\":{\\\\\\\"0\\\\\\\":\\\\\\\"Other\\\\\\\"},\\\\\\\"gender\\\\\\\":{\\\\\\\"0\\\\\\\":\\\\\\\"Male\\\\\\\"},\\\\\\\"hours_per_week\\\\\\\":{\\\\\\\"0\\\\\\\":60},\\\\\\\"income\\\\\\\":{\\\\\\\"0\\\\\\\":0.625}}\\\", \\\"final_cfs_df\\\": \\\"{\\\\\\\"age\\\\\\\":{\\\\\\\"0\\\\\\\":82.0,\\\\\\\"1\\\\\\\":66.0},\\\\\\\"workclass\\\\\\\":{\\\\\\\"0\\\\\\\":\\\\\\\"Self-Employed\\\\\\\",\\\\\\\"1\\\\\\\":\\\\\\\"Government\\\\\\\"},\\\\\\\"education\\\\\\\":{\\\\\\\"0\\\\\\\":\\\\\\\"School\\\\\\\",\\\\\\\"1\\\\\\\":\\\\\\\"Doctorate\\\\\\\"},\\\\\\\"marital_status\\\\\\\":{\\\\\\\"0\\\\\\\":\\\\\\\"Divorced\\\\\\\",\\\\\\\"1\\\\\\\":\\\\\\\"Separated\\\\\\\"},\\\\\\\"occupation\\\\\\\":{\\\\\\\"0\\\\\\\":\\\\\\\"Service\\\\\\\",\\\\\\\"1\\\\\\\":\\\\\\\"Sales\\\\\\\"},\\\\\\\"race\\\\\\\":{\\\\\\\"0\\\\\\\":\\\\\\\"White\\\\\\\",\\\\\\\"1\\\\\\\":\\\\\\\"Other\\\\\\\"},\\\\\\\"gender\\\\\\\":{\\\\\\\"0\\\\\\\":\\\\\\\"Female\\\\\\\",\\\\\\\"1\\\\\\\":\\\\\\\"Male\\\\\\\"},\\\\\\\"hours_per_week\\\\\\\":{\\\\\\\"0\\\\\\\":79.0,\\\\\\\"1\\\\\\\":73.0},\\\\\\\"income\\\\\\\":{\\\\\\\"0\\\\\\\":0.01,\\\\\\\"1\\\\\\\":0.297}}\\\"}\",\n",
      "    \"{\\\"data_interface\\\": {\\\"outcome_name\\\": \\\"income\\\", \\\"data_df\\\": \\\"dummy_data\\\"}, \\\"model_type\\\": \\\"classifier\\\", \\\"desired_class\\\": 1.0, \\\"desired_range\\\": null, \\\"test_instance_df\\\": \\\"{\\\\\\\"age\\\\\\\":{\\\\\\\"0\\\\\\\":31},\\\\\\\"workclass\\\\\\\":{\\\\\\\"0\\\\\\\":\\\\\\\"Private\\\\\\\"},\\\\\\\"education\\\\\\\":{\\\\\\\"0\\\\\\\":\\\\\\\"Some-college\\\\\\\"},\\\\\\\"marital_status\\\\\\\":{\\\\\\\"0\\\\\\\":\\\\\\\"Divorced\\\\\\\"},\\\\\\\"occupation\\\\\\\":{\\\\\\\"0\\\\\\\":\\\\\\\"Blue-Collar\\\\\\\"},\\\\\\\"race\\\\\\\":{\\\\\\\"0\\\\\\\":\\\\\\\"White\\\\\\\"},\\\\\\\"gender\\\\\\\":{\\\\\\\"0\\\\\\\":\\\\\\\"Male\\\\\\\"},\\\\\\\"hours_per_week\\\\\\\":{\\\\\\\"0\\\\\\\":40},\\\\\\\"income\\\\\\\":{\\\\\\\"0\\\\\\\":0.035}}\\\", \\\"final_cfs_df\\\": \\\"{\\\\\\\"age\\\\\\\":{\\\\\\\"0\\\\\\\":50.0,\\\\\\\"1\\\\\\\":39.0},\\\\\\\"workclass\\\\\\\":{\\\\\\\"0\\\\\\\":\\\\\\\"Private\\\\\\\",\\\\\\\"1\\\\\\\":\\\\\\\"Private\\\\\\\"},\\\\\\\"education\\\\\\\":{\\\\\\\"0\\\\\\\":\\\\\\\"Assoc\\\\\\\",\\\\\\\"1\\\\\\\":\\\\\\\"Assoc\\\\\\\"},\\\\\\\"marital_status\\\\\\\":{\\\\\\\"0\\\\\\\":\\\\\\\"Married\\\\\\\",\\\\\\\"1\\\\\\\":\\\\\\\"Married\\\\\\\"},\\\\\\\"occupation\\\\\\\":{\\\\\\\"0\\\\\\\":\\\\\\\"Professional\\\\\\\",\\\\\\\"1\\\\\\\":\\\\\\\"Professional\\\\\\\"},\\\\\\\"race\\\\\\\":{\\\\\\\"0\\\\\\\":\\\\\\\"White\\\\\\\",\\\\\\\"1\\\\\\\":\\\\\\\"White\\\\\\\"},\\\\\\\"gender\\\\\\\":{\\\\\\\"0\\\\\\\":\\\\\\\"Female\\\\\\\",\\\\\\\"1\\\\\\\":\\\\\\\"Female\\\\\\\"},\\\\\\\"hours_per_week\\\\\\\":{\\\\\\\"0\\\\\\\":36.0,\\\\\\\"1\\\\\\\":85.0},\\\\\\\"income\\\\\\\":{\\\\\\\"0\\\\\\\":0.59,\\\\\\\"1\\\\\\\":0.671}}\\\"}\",\n",
      "    \"{\\\"data_interface\\\": {\\\"outcome_name\\\": \\\"income\\\", \\\"data_df\\\": \\\"dummy_data\\\"}, \\\"model_type\\\": \\\"classifier\\\", \\\"desired_class\\\": 0.0, \\\"desired_range\\\": null, \\\"test_instance_df\\\": \\\"{\\\\\\\"age\\\\\\\":{\\\\\\\"0\\\\\\\":41},\\\\\\\"workclass\\\\\\\":{\\\\\\\"0\\\\\\\":\\\\\\\"Private\\\\\\\"},\\\\\\\"education\\\\\\\":{\\\\\\\"0\\\\\\\":\\\\\\\"Prof-school\\\\\\\"},\\\\\\\"marital_status\\\\\\\":{\\\\\\\"0\\\\\\\":\\\\\\\"Married\\\\\\\"},\\\\\\\"occupation\\\\\\\":{\\\\\\\"0\\\\\\\":\\\\\\\"White-Collar\\\\\\\"},\\\\\\\"race\\\\\\\":{\\\\\\\"0\\\\\\\":\\\\\\\"Other\\\\\\\"},\\\\\\\"gender\\\\\\\":{\\\\\\\"0\\\\\\\":\\\\\\\"Male\\\\\\\"},\\\\\\\"hours_per_week\\\\\\\":{\\\\\\\"0\\\\\\\":40},\\\\\\\"income\\\\\\\":{\\\\\\\"0\\\\\\\":0.75}}\\\", \\\"final_cfs_df\\\": \\\"{\\\\\\\"age\\\\\\\":{\\\\\\\"0\\\\\\\":82.0,\\\\\\\"1\\\\\\\":66.0},\\\\\\\"workclass\\\\\\\":{\\\\\\\"0\\\\\\\":\\\\\\\"Self-Employed\\\\\\\",\\\\\\\"1\\\\\\\":\\\\\\\"Government\\\\\\\"},\\\\\\\"education\\\\\\\":{\\\\\\\"0\\\\\\\":\\\\\\\"School\\\\\\\",\\\\\\\"1\\\\\\\":\\\\\\\"Doctorate\\\\\\\"},\\\\\\\"marital_status\\\\\\\":{\\\\\\\"0\\\\\\\":\\\\\\\"Divorced\\\\\\\",\\\\\\\"1\\\\\\\":\\\\\\\"Separated\\\\\\\"},\\\\\\\"occupation\\\\\\\":{\\\\\\\"0\\\\\\\":\\\\\\\"Service\\\\\\\",\\\\\\\"1\\\\\\\":\\\\\\\"Sales\\\\\\\"},\\\\\\\"race\\\\\\\":{\\\\\\\"0\\\\\\\":\\\\\\\"White\\\\\\\",\\\\\\\"1\\\\\\\":\\\\\\\"Other\\\\\\\"},\\\\\\\"gender\\\\\\\":{\\\\\\\"0\\\\\\\":\\\\\\\"Female\\\\\\\",\\\\\\\"1\\\\\\\":\\\\\\\"Male\\\\\\\"},\\\\\\\"hours_per_week\\\\\\\":{\\\\\\\"0\\\\\\\":79.0,\\\\\\\"1\\\\\\\":73.0},\\\\\\\"income\\\\\\\":{\\\\\\\"0\\\\\\\":0.01,\\\\\\\"1\\\\\\\":0.297}}\\\"}\",\n",
      "    \"{\\\"data_interface\\\": {\\\"outcome_name\\\": \\\"income\\\", \\\"data_df\\\": \\\"dummy_data\\\"}, \\\"model_type\\\": \\\"classifier\\\", \\\"desired_class\\\": 1.0, \\\"desired_range\\\": null, \\\"test_instance_df\\\": \\\"{\\\\\\\"age\\\\\\\":{\\\\\\\"0\\\\\\\":27},\\\\\\\"workclass\\\\\\\":{\\\\\\\"0\\\\\\\":\\\\\\\"Private\\\\\\\"},\\\\\\\"education\\\\\\\":{\\\\\\\"0\\\\\\\":\\\\\\\"School\\\\\\\"},\\\\\\\"marital_status\\\\\\\":{\\\\\\\"0\\\\\\\":\\\\\\\"Single\\\\\\\"},\\\\\\\"occupation\\\\\\\":{\\\\\\\"0\\\\\\\":\\\\\\\"Blue-Collar\\\\\\\"},\\\\\\\"race\\\\\\\":{\\\\\\\"0\\\\\\\":\\\\\\\"White\\\\\\\"},\\\\\\\"gender\\\\\\\":{\\\\\\\"0\\\\\\\":\\\\\\\"Male\\\\\\\"},\\\\\\\"hours_per_week\\\\\\\":{\\\\\\\"0\\\\\\\":40},\\\\\\\"income\\\\\\\":{\\\\\\\"0\\\\\\\":0.01}}\\\", \\\"final_cfs_df\\\": \\\"{\\\\\\\"age\\\\\\\":{\\\\\\\"0\\\\\\\":50.0,\\\\\\\"1\\\\\\\":39.0},\\\\\\\"workclass\\\\\\\":{\\\\\\\"0\\\\\\\":\\\\\\\"Private\\\\\\\",\\\\\\\"1\\\\\\\":\\\\\\\"Private\\\\\\\"},\\\\\\\"education\\\\\\\":{\\\\\\\"0\\\\\\\":\\\\\\\"Assoc\\\\\\\",\\\\\\\"1\\\\\\\":\\\\\\\"Assoc\\\\\\\"},\\\\\\\"marital_status\\\\\\\":{\\\\\\\"0\\\\\\\":\\\\\\\"Married\\\\\\\",\\\\\\\"1\\\\\\\":\\\\\\\"Married\\\\\\\"},\\\\\\\"occupation\\\\\\\":{\\\\\\\"0\\\\\\\":\\\\\\\"Professional\\\\\\\",\\\\\\\"1\\\\\\\":\\\\\\\"Professional\\\\\\\"},\\\\\\\"race\\\\\\\":{\\\\\\\"0\\\\\\\":\\\\\\\"White\\\\\\\",\\\\\\\"1\\\\\\\":\\\\\\\"White\\\\\\\"},\\\\\\\"gender\\\\\\\":{\\\\\\\"0\\\\\\\":\\\\\\\"Female\\\\\\\",\\\\\\\"1\\\\\\\":\\\\\\\"Female\\\\\\\"},\\\\\\\"hours_per_week\\\\\\\":{\\\\\\\"0\\\\\\\":36.0,\\\\\\\"1\\\\\\\":85.0},\\\\\\\"income\\\\\\\":{\\\\\\\"0\\\\\\\":0.59,\\\\\\\"1\\\\\\\":0.671}}\\\"}\",\n",
      "    \"{\\\"data_interface\\\": {\\\"outcome_name\\\": \\\"income\\\", \\\"data_df\\\": \\\"dummy_data\\\"}, \\\"model_type\\\": \\\"classifier\\\", \\\"desired_class\\\": 0.0, \\\"desired_range\\\": null, \\\"test_instance_df\\\": \\\"{\\\\\\\"age\\\\\\\":{\\\\\\\"0\\\\\\\":31},\\\\\\\"workclass\\\\\\\":{\\\\\\\"0\\\\\\\":\\\\\\\"Self-Employed\\\\\\\"},\\\\\\\"education\\\\\\\":{\\\\\\\"0\\\\\\\":\\\\\\\"Some-college\\\\\\\"},\\\\\\\"marital_status\\\\\\\":{\\\\\\\"0\\\\\\\":\\\\\\\"Married\\\\\\\"},\\\\\\\"occupation\\\\\\\":{\\\\\\\"0\\\\\\\":\\\\\\\"Sales\\\\\\\"},\\\\\\\"race\\\\\\\":{\\\\\\\"0\\\\\\\":\\\\\\\"Other\\\\\\\"},\\\\\\\"gender\\\\\\\":{\\\\\\\"0\\\\\\\":\\\\\\\"Male\\\\\\\"},\\\\\\\"hours_per_week\\\\\\\":{\\\\\\\"0\\\\\\\":60},\\\\\\\"income\\\\\\\":{\\\\\\\"0\\\\\\\":0.557}}\\\", \\\"final_cfs_df\\\": \\\"{\\\\\\\"age\\\\\\\":{\\\\\\\"0\\\\\\\":82.0,\\\\\\\"1\\\\\\\":66.0},\\\\\\\"workclass\\\\\\\":{\\\\\\\"0\\\\\\\":\\\\\\\"Self-Employed\\\\\\\",\\\\\\\"1\\\\\\\":\\\\\\\"Government\\\\\\\"},\\\\\\\"education\\\\\\\":{\\\\\\\"0\\\\\\\":\\\\\\\"School\\\\\\\",\\\\\\\"1\\\\\\\":\\\\\\\"Doctorate\\\\\\\"},\\\\\\\"marital_status\\\\\\\":{\\\\\\\"0\\\\\\\":\\\\\\\"Divorced\\\\\\\",\\\\\\\"1\\\\\\\":\\\\\\\"Separated\\\\\\\"},\\\\\\\"occupation\\\\\\\":{\\\\\\\"0\\\\\\\":\\\\\\\"Service\\\\\\\",\\\\\\\"1\\\\\\\":\\\\\\\"Sales\\\\\\\"},\\\\\\\"race\\\\\\\":{\\\\\\\"0\\\\\\\":\\\\\\\"White\\\\\\\",\\\\\\\"1\\\\\\\":\\\\\\\"Other\\\\\\\"},\\\\\\\"gender\\\\\\\":{\\\\\\\"0\\\\\\\":\\\\\\\"Female\\\\\\\",\\\\\\\"1\\\\\\\":\\\\\\\"Male\\\\\\\"},\\\\\\\"hours_per_week\\\\\\\":{\\\\\\\"0\\\\\\\":79.0,\\\\\\\"1\\\\\\\":73.0},\\\\\\\"income\\\\\\\":{\\\\\\\"0\\\\\\\":0.01,\\\\\\\"1\\\\\\\":0.297}}\\\"}\",\n",
      "    \"{\\\"data_interface\\\": {\\\"outcome_name\\\": \\\"income\\\", \\\"data_df\\\": \\\"dummy_data\\\"}, \\\"model_type\\\": \\\"classifier\\\", \\\"desired_class\\\": 1.0, \\\"desired_range\\\": null, \\\"test_instance_df\\\": \\\"{\\\\\\\"age\\\\\\\":{\\\\\\\"0\\\\\\\":26},\\\\\\\"workclass\\\\\\\":{\\\\\\\"0\\\\\\\":\\\\\\\"Private\\\\\\\"},\\\\\\\"education\\\\\\\":{\\\\\\\"0\\\\\\\":\\\\\\\"HS-grad\\\\\\\"},\\\\\\\"marital_status\\\\\\\":{\\\\\\\"0\\\\\\\":\\\\\\\"Married\\\\\\\"},\\\\\\\"occupation\\\\\\\":{\\\\\\\"0\\\\\\\":\\\\\\\"Blue-Collar\\\\\\\"},\\\\\\\"race\\\\\\\":{\\\\\\\"0\\\\\\\":\\\\\\\"White\\\\\\\"},\\\\\\\"gender\\\\\\\":{\\\\\\\"0\\\\\\\":\\\\\\\"Male\\\\\\\"},\\\\\\\"hours_per_week\\\\\\\":{\\\\\\\"0\\\\\\\":50},\\\\\\\"income\\\\\\\":{\\\\\\\"0\\\\\\\":0.124}}\\\", \\\"final_cfs_df\\\": \\\"{\\\\\\\"age\\\\\\\":{\\\\\\\"0\\\\\\\":50.0,\\\\\\\"1\\\\\\\":39.0},\\\\\\\"workclass\\\\\\\":{\\\\\\\"0\\\\\\\":\\\\\\\"Private\\\\\\\",\\\\\\\"1\\\\\\\":\\\\\\\"Private\\\\\\\"},\\\\\\\"education\\\\\\\":{\\\\\\\"0\\\\\\\":\\\\\\\"Assoc\\\\\\\",\\\\\\\"1\\\\\\\":\\\\\\\"Assoc\\\\\\\"},\\\\\\\"marital_status\\\\\\\":{\\\\\\\"0\\\\\\\":\\\\\\\"Married\\\\\\\",\\\\\\\"1\\\\\\\":\\\\\\\"Married\\\\\\\"},\\\\\\\"occupation\\\\\\\":{\\\\\\\"0\\\\\\\":\\\\\\\"Professional\\\\\\\",\\\\\\\"1\\\\\\\":\\\\\\\"Professional\\\\\\\"},\\\\\\\"race\\\\\\\":{\\\\\\\"0\\\\\\\":\\\\\\\"White\\\\\\\",\\\\\\\"1\\\\\\\":\\\\\\\"White\\\\\\\"},\\\\\\\"gender\\\\\\\":{\\\\\\\"0\\\\\\\":\\\\\\\"Female\\\\\\\",\\\\\\\"1\\\\\\\":\\\\\\\"Female\\\\\\\"},\\\\\\\"hours_per_week\\\\\\\":{\\\\\\\"0\\\\\\\":36.0,\\\\\\\"1\\\\\\\":85.0},\\\\\\\"income\\\\\\\":{\\\\\\\"0\\\\\\\":0.59,\\\\\\\"1\\\\\\\":0.671}}\\\"}\",\n",
      "    \"{\\\"data_interface\\\": {\\\"outcome_name\\\": \\\"income\\\", \\\"data_df\\\": \\\"dummy_data\\\"}, \\\"model_type\\\": \\\"classifier\\\", \\\"desired_class\\\": 1.0, \\\"desired_range\\\": null, \\\"test_instance_df\\\": \\\"{\\\\\\\"age\\\\\\\":{\\\\\\\"0\\\\\\\":25},\\\\\\\"workclass\\\\\\\":{\\\\\\\"0\\\\\\\":\\\\\\\"Private\\\\\\\"},\\\\\\\"education\\\\\\\":{\\\\\\\"0\\\\\\\":\\\\\\\"Bachelors\\\\\\\"},\\\\\\\"marital_status\\\\\\\":{\\\\\\\"0\\\\\\\":\\\\\\\"Single\\\\\\\"},\\\\\\\"occupation\\\\\\\":{\\\\\\\"0\\\\\\\":\\\\\\\"White-Collar\\\\\\\"},\\\\\\\"race\\\\\\\":{\\\\\\\"0\\\\\\\":\\\\\\\"White\\\\\\\"},\\\\\\\"gender\\\\\\\":{\\\\\\\"0\\\\\\\":\\\\\\\"Male\\\\\\\"},\\\\\\\"hours_per_week\\\\\\\":{\\\\\\\"0\\\\\\\":40},\\\\\\\"income\\\\\\\":{\\\\\\\"0\\\\\\\":0.03}}\\\", \\\"final_cfs_df\\\": \\\"{\\\\\\\"age\\\\\\\":{\\\\\\\"0\\\\\\\":50.0,\\\\\\\"1\\\\\\\":39.0},\\\\\\\"workclass\\\\\\\":{\\\\\\\"0\\\\\\\":\\\\\\\"Private\\\\\\\",\\\\\\\"1\\\\\\\":\\\\\\\"Private\\\\\\\"},\\\\\\\"education\\\\\\\":{\\\\\\\"0\\\\\\\":\\\\\\\"Assoc\\\\\\\",\\\\\\\"1\\\\\\\":\\\\\\\"Assoc\\\\\\\"},\\\\\\\"marital_status\\\\\\\":{\\\\\\\"0\\\\\\\":\\\\\\\"Married\\\\\\\",\\\\\\\"1\\\\\\\":\\\\\\\"Married\\\\\\\"},\\\\\\\"occupation\\\\\\\":{\\\\\\\"0\\\\\\\":\\\\\\\"Professional\\\\\\\",\\\\\\\"1\\\\\\\":\\\\\\\"Professional\\\\\\\"},\\\\\\\"race\\\\\\\":{\\\\\\\"0\\\\\\\":\\\\\\\"White\\\\\\\",\\\\\\\"1\\\\\\\":\\\\\\\"White\\\\\\\"},\\\\\\\"gender\\\\\\\":{\\\\\\\"0\\\\\\\":\\\\\\\"Female\\\\\\\",\\\\\\\"1\\\\\\\":\\\\\\\"Female\\\\\\\"},\\\\\\\"hours_per_week\\\\\\\":{\\\\\\\"0\\\\\\\":36.0,\\\\\\\"1\\\\\\\":85.0},\\\\\\\"income\\\\\\\":{\\\\\\\"0\\\\\\\":0.59,\\\\\\\"1\\\\\\\":0.671}}\\\"}\",\n",
      "    \"{\\\"data_interface\\\": {\\\"outcome_name\\\": \\\"income\\\", \\\"data_df\\\": \\\"dummy_data\\\"}, \\\"model_type\\\": \\\"classifier\\\", \\\"desired_class\\\": 0.0, \\\"desired_range\\\": null, \\\"test_instance_df\\\": \\\"{\\\\\\\"age\\\\\\\":{\\\\\\\"0\\\\\\\":54},\\\\\\\"workclass\\\\\\\":{\\\\\\\"0\\\\\\\":\\\\\\\"Private\\\\\\\"},\\\\\\\"education\\\\\\\":{\\\\\\\"0\\\\\\\":\\\\\\\"Some-college\\\\\\\"},\\\\\\\"marital_status\\\\\\\":{\\\\\\\"0\\\\\\\":\\\\\\\"Married\\\\\\\"},\\\\\\\"occupation\\\\\\\":{\\\\\\\"0\\\\\\\":\\\\\\\"White-Collar\\\\\\\"},\\\\\\\"race\\\\\\\":{\\\\\\\"0\\\\\\\":\\\\\\\"White\\\\\\\"},\\\\\\\"gender\\\\\\\":{\\\\\\\"0\\\\\\\":\\\\\\\"Male\\\\\\\"},\\\\\\\"hours_per_week\\\\\\\":{\\\\\\\"0\\\\\\\":40},\\\\\\\"income\\\\\\\":{\\\\\\\"0\\\\\\\":0.65}}\\\", \\\"final_cfs_df\\\": \\\"{\\\\\\\"age\\\\\\\":{\\\\\\\"0\\\\\\\":82.0,\\\\\\\"1\\\\\\\":66.0},\\\\\\\"workclass\\\\\\\":{\\\\\\\"0\\\\\\\":\\\\\\\"Self-Employed\\\\\\\",\\\\\\\"1\\\\\\\":\\\\\\\"Government\\\\\\\"},\\\\\\\"education\\\\\\\":{\\\\\\\"0\\\\\\\":\\\\\\\"School\\\\\\\",\\\\\\\"1\\\\\\\":\\\\\\\"Doctorate\\\\\\\"},\\\\\\\"marital_status\\\\\\\":{\\\\\\\"0\\\\\\\":\\\\\\\"Divorced\\\\\\\",\\\\\\\"1\\\\\\\":\\\\\\\"Separated\\\\\\\"},\\\\\\\"occupation\\\\\\\":{\\\\\\\"0\\\\\\\":\\\\\\\"Service\\\\\\\",\\\\\\\"1\\\\\\\":\\\\\\\"Sales\\\\\\\"},\\\\\\\"race\\\\\\\":{\\\\\\\"0\\\\\\\":\\\\\\\"White\\\\\\\",\\\\\\\"1\\\\\\\":\\\\\\\"Other\\\\\\\"},\\\\\\\"gender\\\\\\\":{\\\\\\\"0\\\\\\\":\\\\\\\"Female\\\\\\\",\\\\\\\"1\\\\\\\":\\\\\\\"Male\\\\\\\"},\\\\\\\"hours_per_week\\\\\\\":{\\\\\\\"0\\\\\\\":79.0,\\\\\\\"1\\\\\\\":73.0},\\\\\\\"income\\\\\\\":{\\\\\\\"0\\\\\\\":0.01,\\\\\\\"1\\\\\\\":0.297}}\\\"}\",\n",
      "    \"{\\\"data_interface\\\": {\\\"outcome_name\\\": \\\"income\\\", \\\"data_df\\\": \\\"dummy_data\\\"}, \\\"model_type\\\": \\\"classifier\\\", \\\"desired_class\\\": 1.0, \\\"desired_range\\\": null, \\\"test_instance_df\\\": \\\"{\\\\\\\"age\\\\\\\":{\\\\\\\"0\\\\\\\":32},\\\\\\\"workclass\\\\\\\":{\\\\\\\"0\\\\\\\":\\\\\\\"Private\\\\\\\"},\\\\\\\"education\\\\\\\":{\\\\\\\"0\\\\\\\":\\\\\\\"HS-grad\\\\\\\"},\\\\\\\"marital_status\\\\\\\":{\\\\\\\"0\\\\\\\":\\\\\\\"Married\\\\\\\"},\\\\\\\"occupation\\\\\\\":{\\\\\\\"0\\\\\\\":\\\\\\\"Blue-Collar\\\\\\\"},\\\\\\\"race\\\\\\\":{\\\\\\\"0\\\\\\\":\\\\\\\"White\\\\\\\"},\\\\\\\"gender\\\\\\\":{\\\\\\\"0\\\\\\\":\\\\\\\"Male\\\\\\\"},\\\\\\\"hours_per_week\\\\\\\":{\\\\\\\"0\\\\\\\":40},\\\\\\\"income\\\\\\\":{\\\\\\\"0\\\\\\\":0.201}}\\\", \\\"final_cfs_df\\\": \\\"{\\\\\\\"age\\\\\\\":{\\\\\\\"0\\\\\\\":50.0,\\\\\\\"1\\\\\\\":39.0},\\\\\\\"workclass\\\\\\\":{\\\\\\\"0\\\\\\\":\\\\\\\"Private\\\\\\\",\\\\\\\"1\\\\\\\":\\\\\\\"Private\\\\\\\"},\\\\\\\"education\\\\\\\":{\\\\\\\"0\\\\\\\":\\\\\\\"Assoc\\\\\\\",\\\\\\\"1\\\\\\\":\\\\\\\"Assoc\\\\\\\"},\\\\\\\"marital_status\\\\\\\":{\\\\\\\"0\\\\\\\":\\\\\\\"Married\\\\\\\",\\\\\\\"1\\\\\\\":\\\\\\\"Married\\\\\\\"},\\\\\\\"occupation\\\\\\\":{\\\\\\\"0\\\\\\\":\\\\\\\"Professional\\\\\\\",\\\\\\\"1\\\\\\\":\\\\\\\"Professional\\\\\\\"},\\\\\\\"race\\\\\\\":{\\\\\\\"0\\\\\\\":\\\\\\\"White\\\\\\\",\\\\\\\"1\\\\\\\":\\\\\\\"White\\\\\\\"},\\\\\\\"gender\\\\\\\":{\\\\\\\"0\\\\\\\":\\\\\\\"Female\\\\\\\",\\\\\\\"1\\\\\\\":\\\\\\\"Female\\\\\\\"},\\\\\\\"hours_per_week\\\\\\\":{\\\\\\\"0\\\\\\\":36.0,\\\\\\\"1\\\\\\\":85.0},\\\\\\\"income\\\\\\\":{\\\\\\\"0\\\\\\\":0.59,\\\\\\\"1\\\\\\\":0.671}}\\\"}\"\n",
      "  ],\n",
      "  \"local_importance\": [\n",
      "    {\n",
      "      \"workclass\": 0.0,\n",
      "      \"education\": 1.0,\n",
      "      \"marital_status\": 0.0,\n",
      "      \"occupation\": 1.0,\n",
      "      \"race\": 0.0,\n",
      "      \"gender\": 1.0,\n",
      "      \"age\": 1.0,\n",
      "      \"hours_per_week\": 1.0\n",
      "    },\n",
      "    {\n",
      "      \"workclass\": 1.0,\n",
      "      \"education\": 1.0,\n",
      "      \"marital_status\": 1.0,\n",
      "      \"occupation\": 1.0,\n",
      "      \"race\": 0.5,\n",
      "      \"gender\": 0.5,\n",
      "      \"age\": 1.0,\n",
      "      \"hours_per_week\": 1.0\n",
      "    },\n",
      "    {\n",
      "      \"workclass\": 0.0,\n",
      "      \"education\": 1.0,\n",
      "      \"marital_status\": 1.0,\n",
      "      \"occupation\": 1.0,\n",
      "      \"race\": 0.0,\n",
      "      \"gender\": 1.0,\n",
      "      \"age\": 1.0,\n",
      "      \"hours_per_week\": 1.0\n",
      "    },\n",
      "    {\n",
      "      \"workclass\": 1.0,\n",
      "      \"education\": 1.0,\n",
      "      \"marital_status\": 1.0,\n",
      "      \"occupation\": 1.0,\n",
      "      \"race\": 0.5,\n",
      "      \"gender\": 0.5,\n",
      "      \"age\": 1.0,\n",
      "      \"hours_per_week\": 1.0\n",
      "    },\n",
      "    {\n",
      "      \"workclass\": 0.0,\n",
      "      \"education\": 1.0,\n",
      "      \"marital_status\": 1.0,\n",
      "      \"occupation\": 1.0,\n",
      "      \"race\": 0.0,\n",
      "      \"gender\": 1.0,\n",
      "      \"age\": 1.0,\n",
      "      \"hours_per_week\": 1.0\n",
      "    },\n",
      "    {\n",
      "      \"workclass\": 0.5,\n",
      "      \"education\": 1.0,\n",
      "      \"marital_status\": 1.0,\n",
      "      \"occupation\": 0.5,\n",
      "      \"race\": 0.5,\n",
      "      \"gender\": 0.5,\n",
      "      \"age\": 1.0,\n",
      "      \"hours_per_week\": 1.0\n",
      "    },\n",
      "    {\n",
      "      \"workclass\": 0.0,\n",
      "      \"education\": 1.0,\n",
      "      \"marital_status\": 0.0,\n",
      "      \"occupation\": 1.0,\n",
      "      \"race\": 0.0,\n",
      "      \"gender\": 1.0,\n",
      "      \"age\": 1.0,\n",
      "      \"hours_per_week\": 1.0\n",
      "    },\n",
      "    {\n",
      "      \"workclass\": 0.0,\n",
      "      \"education\": 1.0,\n",
      "      \"marital_status\": 1.0,\n",
      "      \"occupation\": 1.0,\n",
      "      \"race\": 0.0,\n",
      "      \"gender\": 1.0,\n",
      "      \"age\": 1.0,\n",
      "      \"hours_per_week\": 1.0\n",
      "    },\n",
      "    {\n",
      "      \"workclass\": 1.0,\n",
      "      \"education\": 1.0,\n",
      "      \"marital_status\": 1.0,\n",
      "      \"occupation\": 1.0,\n",
      "      \"race\": 0.5,\n",
      "      \"gender\": 0.5,\n",
      "      \"age\": 1.0,\n",
      "      \"hours_per_week\": 1.0\n",
      "    },\n",
      "    {\n",
      "      \"workclass\": 0.0,\n",
      "      \"education\": 1.0,\n",
      "      \"marital_status\": 0.0,\n",
      "      \"occupation\": 1.0,\n",
      "      \"race\": 0.0,\n",
      "      \"gender\": 1.0,\n",
      "      \"age\": 1.0,\n",
      "      \"hours_per_week\": 1.0\n",
      "    }\n",
      "  ],\n",
      "  \"summary_importance\": {\n",
      "    \"workclass\": 0.35,\n",
      "    \"education\": 1.0,\n",
      "    \"marital_status\": 0.7,\n",
      "    \"occupation\": 0.95,\n",
      "    \"race\": 0.2,\n",
      "    \"gender\": 0.8,\n",
      "    \"age\": 1.0,\n",
      "    \"hours_per_week\": 1.0\n",
      "  },\n",
      "  \"metadata\": {\n",
      "    \"version\": \"1\"\n",
      "  }\n",
      "}\n"
     ]
    }
   ],
   "source": [
    "json_str = cobj.to_json()\n",
    "print(json_str)"
   ]
  },
  {
   "cell_type": "markdown",
   "metadata": {},
   "source": [
    "## Convert the json output to a counterfactual object"
   ]
  },
  {
   "cell_type": "code",
   "execution_count": 16,
   "metadata": {},
   "outputs": [
    {
     "name": "stdout",
     "output_type": "stream",
     "text": [
      "[<dice_ml.diverse_counterfactuals.CounterfactualExamples object at 0x7f23393ea040>, <dice_ml.diverse_counterfactuals.CounterfactualExamples object at 0x7f23393ead00>, <dice_ml.diverse_counterfactuals.CounterfactualExamples object at 0x7f233ab4c430>, <dice_ml.diverse_counterfactuals.CounterfactualExamples object at 0x7f233a413e50>, <dice_ml.diverse_counterfactuals.CounterfactualExamples object at 0x7f233a9287f0>, <dice_ml.diverse_counterfactuals.CounterfactualExamples object at 0x7f233a928c10>, <dice_ml.diverse_counterfactuals.CounterfactualExamples object at 0x7f233a928f70>, <dice_ml.diverse_counterfactuals.CounterfactualExamples object at 0x7f233a928f40>, <dice_ml.diverse_counterfactuals.CounterfactualExamples object at 0x7f233a16dd00>, <dice_ml.diverse_counterfactuals.CounterfactualExamples object at 0x7f233a16d610>]\n",
      "[{'workclass': 0.0, 'education': 1.0, 'marital_status': 0.0, 'occupation': 1.0, 'race': 0.0, 'gender': 1.0, 'age': 1.0, 'hours_per_week': 1.0}, {'workclass': 1.0, 'education': 1.0, 'marital_status': 1.0, 'occupation': 1.0, 'race': 0.5, 'gender': 0.5, 'age': 1.0, 'hours_per_week': 1.0}, {'workclass': 0.0, 'education': 1.0, 'marital_status': 1.0, 'occupation': 1.0, 'race': 0.0, 'gender': 1.0, 'age': 1.0, 'hours_per_week': 1.0}, {'workclass': 1.0, 'education': 1.0, 'marital_status': 1.0, 'occupation': 1.0, 'race': 0.5, 'gender': 0.5, 'age': 1.0, 'hours_per_week': 1.0}, {'workclass': 0.0, 'education': 1.0, 'marital_status': 1.0, 'occupation': 1.0, 'race': 0.0, 'gender': 1.0, 'age': 1.0, 'hours_per_week': 1.0}, {'workclass': 0.5, 'education': 1.0, 'marital_status': 1.0, 'occupation': 0.5, 'race': 0.5, 'gender': 0.5, 'age': 1.0, 'hours_per_week': 1.0}, {'workclass': 0.0, 'education': 1.0, 'marital_status': 0.0, 'occupation': 1.0, 'race': 0.0, 'gender': 1.0, 'age': 1.0, 'hours_per_week': 1.0}, {'workclass': 0.0, 'education': 1.0, 'marital_status': 1.0, 'occupation': 1.0, 'race': 0.0, 'gender': 1.0, 'age': 1.0, 'hours_per_week': 1.0}, {'workclass': 1.0, 'education': 1.0, 'marital_status': 1.0, 'occupation': 1.0, 'race': 0.5, 'gender': 0.5, 'age': 1.0, 'hours_per_week': 1.0}, {'workclass': 0.0, 'education': 1.0, 'marital_status': 0.0, 'occupation': 1.0, 'race': 0.0, 'gender': 1.0, 'age': 1.0, 'hours_per_week': 1.0}]\n",
      "{'workclass': 0.35, 'education': 1.0, 'marital_status': 0.7, 'occupation': 0.95, 'race': 0.2, 'gender': 0.8, 'age': 1.0, 'hours_per_week': 1.0}\n"
     ]
    }
   ],
   "source": [
    "imp_r=imp.from_json(json_str)\n",
    "print([o for o in imp_r.cf_examples_list])\n",
    "print(imp_r.local_importance)\n",
    "print(imp_r.summary_importance)"
   ]
  }
 ],
 "metadata": {
  "kernelspec": {
   "display_name": "Python 3",
   "language": "python",
   "name": "python3"
  },
  "language_info": {
   "codemirror_mode": {
    "name": "ipython",
    "version": 3
   },
   "file_extension": ".py",
   "mimetype": "text/x-python",
   "name": "python",
   "nbconvert_exporter": "python",
   "pygments_lexer": "ipython3",
   "version": "3.8.5"
  }
 },
 "nbformat": 4,
 "nbformat_minor": 4
}
